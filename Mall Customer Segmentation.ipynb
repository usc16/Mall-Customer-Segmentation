{
 "cells": [
  {
   "cell_type": "code",
   "execution_count": 1,
   "id": "8aadcfaf",
   "metadata": {},
   "outputs": [],
   "source": [
    "import pandas as pd\n",
    "import seaborn as sns\n",
    "import matplotlib.pyplot as plt"
   ]
  },
  {
   "cell_type": "code",
   "execution_count": 2,
   "id": "46474149",
   "metadata": {},
   "outputs": [
    {
     "data": {
      "text/html": [
       "<div>\n",
       "<style scoped>\n",
       "    .dataframe tbody tr th:only-of-type {\n",
       "        vertical-align: middle;\n",
       "    }\n",
       "\n",
       "    .dataframe tbody tr th {\n",
       "        vertical-align: top;\n",
       "    }\n",
       "\n",
       "    .dataframe thead th {\n",
       "        text-align: right;\n",
       "    }\n",
       "</style>\n",
       "<table border=\"1\" class=\"dataframe\">\n",
       "  <thead>\n",
       "    <tr style=\"text-align: right;\">\n",
       "      <th></th>\n",
       "      <th>CustomerID</th>\n",
       "      <th>Gender</th>\n",
       "      <th>Age</th>\n",
       "      <th>Annual Income (k$)</th>\n",
       "      <th>Spending Score (1-100)</th>\n",
       "    </tr>\n",
       "  </thead>\n",
       "  <tbody>\n",
       "    <tr>\n",
       "      <th>0</th>\n",
       "      <td>1</td>\n",
       "      <td>Male</td>\n",
       "      <td>19</td>\n",
       "      <td>15</td>\n",
       "      <td>39</td>\n",
       "    </tr>\n",
       "    <tr>\n",
       "      <th>1</th>\n",
       "      <td>2</td>\n",
       "      <td>Male</td>\n",
       "      <td>21</td>\n",
       "      <td>15</td>\n",
       "      <td>81</td>\n",
       "    </tr>\n",
       "    <tr>\n",
       "      <th>2</th>\n",
       "      <td>3</td>\n",
       "      <td>Female</td>\n",
       "      <td>20</td>\n",
       "      <td>16</td>\n",
       "      <td>6</td>\n",
       "    </tr>\n",
       "    <tr>\n",
       "      <th>3</th>\n",
       "      <td>4</td>\n",
       "      <td>Female</td>\n",
       "      <td>23</td>\n",
       "      <td>16</td>\n",
       "      <td>77</td>\n",
       "    </tr>\n",
       "    <tr>\n",
       "      <th>4</th>\n",
       "      <td>5</td>\n",
       "      <td>Female</td>\n",
       "      <td>31</td>\n",
       "      <td>17</td>\n",
       "      <td>40</td>\n",
       "    </tr>\n",
       "  </tbody>\n",
       "</table>\n",
       "</div>"
      ],
      "text/plain": [
       "   CustomerID  Gender  Age  Annual Income (k$)  Spending Score (1-100)\n",
       "0           1    Male   19                  15                      39\n",
       "1           2    Male   21                  15                      81\n",
       "2           3  Female   20                  16                       6\n",
       "3           4  Female   23                  16                      77\n",
       "4           5  Female   31                  17                      40"
      ]
     },
     "execution_count": 2,
     "metadata": {},
     "output_type": "execute_result"
    }
   ],
   "source": [
    "df=pd.read_csv('DS3_C6_S3_MallCustomers_Data_Project.csv')\n",
    "df.head()"
   ]
  },
  {
   "cell_type": "code",
   "execution_count": 3,
   "id": "9d8faa61",
   "metadata": {},
   "outputs": [
    {
     "data": {
      "text/plain": [
       "(200, 5)"
      ]
     },
     "execution_count": 3,
     "metadata": {},
     "output_type": "execute_result"
    }
   ],
   "source": [
    "df.shape"
   ]
  },
  {
   "cell_type": "code",
   "execution_count": 4,
   "id": "14e680da",
   "metadata": {},
   "outputs": [
    {
     "name": "stdout",
     "output_type": "stream",
     "text": [
      "<class 'pandas.core.frame.DataFrame'>\n",
      "RangeIndex: 200 entries, 0 to 199\n",
      "Data columns (total 5 columns):\n",
      " #   Column                  Non-Null Count  Dtype \n",
      "---  ------                  --------------  ----- \n",
      " 0   CustomerID              200 non-null    int64 \n",
      " 1   Gender                  200 non-null    object\n",
      " 2   Age                     200 non-null    int64 \n",
      " 3   Annual Income (k$)      200 non-null    int64 \n",
      " 4   Spending Score (1-100)  200 non-null    int64 \n",
      "dtypes: int64(4), object(1)\n",
      "memory usage: 7.9+ KB\n"
     ]
    }
   ],
   "source": [
    "df.info()"
   ]
  },
  {
   "cell_type": "code",
   "execution_count": 5,
   "id": "010a4147",
   "metadata": {},
   "outputs": [
    {
     "data": {
      "text/plain": [
       "CustomerID                0\n",
       "Gender                    0\n",
       "Age                       0\n",
       "Annual Income (k$)        0\n",
       "Spending Score (1-100)    0\n",
       "dtype: int64"
      ]
     },
     "execution_count": 5,
     "metadata": {},
     "output_type": "execute_result"
    }
   ],
   "source": [
    "df.isnull().sum()"
   ]
  },
  {
   "cell_type": "code",
   "execution_count": 6,
   "id": "fa6bc8d5",
   "metadata": {},
   "outputs": [
    {
     "data": {
      "text/html": [
       "<div>\n",
       "<style scoped>\n",
       "    .dataframe tbody tr th:only-of-type {\n",
       "        vertical-align: middle;\n",
       "    }\n",
       "\n",
       "    .dataframe tbody tr th {\n",
       "        vertical-align: top;\n",
       "    }\n",
       "\n",
       "    .dataframe thead th {\n",
       "        text-align: right;\n",
       "    }\n",
       "</style>\n",
       "<table border=\"1\" class=\"dataframe\">\n",
       "  <thead>\n",
       "    <tr style=\"text-align: right;\">\n",
       "      <th></th>\n",
       "      <th>CustomerID</th>\n",
       "      <th>Age</th>\n",
       "      <th>Annual Income (k$)</th>\n",
       "      <th>Spending Score (1-100)</th>\n",
       "    </tr>\n",
       "  </thead>\n",
       "  <tbody>\n",
       "    <tr>\n",
       "      <th>count</th>\n",
       "      <td>200.000000</td>\n",
       "      <td>200.000000</td>\n",
       "      <td>200.000000</td>\n",
       "      <td>200.000000</td>\n",
       "    </tr>\n",
       "    <tr>\n",
       "      <th>mean</th>\n",
       "      <td>100.500000</td>\n",
       "      <td>38.850000</td>\n",
       "      <td>60.560000</td>\n",
       "      <td>50.200000</td>\n",
       "    </tr>\n",
       "    <tr>\n",
       "      <th>std</th>\n",
       "      <td>57.879185</td>\n",
       "      <td>13.969007</td>\n",
       "      <td>26.264721</td>\n",
       "      <td>25.823522</td>\n",
       "    </tr>\n",
       "    <tr>\n",
       "      <th>min</th>\n",
       "      <td>1.000000</td>\n",
       "      <td>18.000000</td>\n",
       "      <td>15.000000</td>\n",
       "      <td>1.000000</td>\n",
       "    </tr>\n",
       "    <tr>\n",
       "      <th>25%</th>\n",
       "      <td>50.750000</td>\n",
       "      <td>28.750000</td>\n",
       "      <td>41.500000</td>\n",
       "      <td>34.750000</td>\n",
       "    </tr>\n",
       "    <tr>\n",
       "      <th>50%</th>\n",
       "      <td>100.500000</td>\n",
       "      <td>36.000000</td>\n",
       "      <td>61.500000</td>\n",
       "      <td>50.000000</td>\n",
       "    </tr>\n",
       "    <tr>\n",
       "      <th>75%</th>\n",
       "      <td>150.250000</td>\n",
       "      <td>49.000000</td>\n",
       "      <td>78.000000</td>\n",
       "      <td>73.000000</td>\n",
       "    </tr>\n",
       "    <tr>\n",
       "      <th>max</th>\n",
       "      <td>200.000000</td>\n",
       "      <td>70.000000</td>\n",
       "      <td>137.000000</td>\n",
       "      <td>99.000000</td>\n",
       "    </tr>\n",
       "  </tbody>\n",
       "</table>\n",
       "</div>"
      ],
      "text/plain": [
       "       CustomerID         Age  Annual Income (k$)  Spending Score (1-100)\n",
       "count  200.000000  200.000000          200.000000              200.000000\n",
       "mean   100.500000   38.850000           60.560000               50.200000\n",
       "std     57.879185   13.969007           26.264721               25.823522\n",
       "min      1.000000   18.000000           15.000000                1.000000\n",
       "25%     50.750000   28.750000           41.500000               34.750000\n",
       "50%    100.500000   36.000000           61.500000               50.000000\n",
       "75%    150.250000   49.000000           78.000000               73.000000\n",
       "max    200.000000   70.000000          137.000000               99.000000"
      ]
     },
     "execution_count": 6,
     "metadata": {},
     "output_type": "execute_result"
    }
   ],
   "source": [
    "df.describe()"
   ]
  },
  {
   "cell_type": "code",
   "execution_count": 7,
   "id": "b44284e4",
   "metadata": {},
   "outputs": [],
   "source": [
    "df_1=df.copy()"
   ]
  },
  {
   "cell_type": "code",
   "execution_count": 8,
   "id": "6c3c7784",
   "metadata": {},
   "outputs": [
    {
     "data": {
      "image/png": "[encoded data removed]",
      "text/plain": [
       "<Figure size 432x288 with 1 Axes>"
      ]
     },
     "metadata": {},
     "output_type": "display_data"
    }
   ],
   "source": [
    "percent=df['Gender'].value_counts()\n",
    "labels=list(df['Gender'].value_counts().index)\n",
    "plt.pie(percent,labels=labels,autopct=\"%0.2f%%\");"
   ]
  },
  {
   "cell_type": "markdown",
   "id": "e1e31db1",
   "metadata": {},
   "source": [
    "# About 56% of the customers are females and 44% males\n"
   ]
  },
  {
   "cell_type": "code",
   "execution_count": 9,
   "id": "19ccd3d8",
   "metadata": {},
   "outputs": [
    {
     "name": "stdout",
     "output_type": "stream",
     "text": [
      "the no. of null values is gender columns is 0\n",
      "the mode of gender column is Female\n"
     ]
    }
   ],
   "source": [
    "print(f\"the no. of null values is gender columns is {df['Gender'].isnull().sum()}\")\n",
    "print(f\"the mode of gender column is {df['Gender'].mode()[0]}\")"
   ]
  },
  {
   "cell_type": "code",
   "execution_count": 10,
   "id": "ceecef38",
   "metadata": {},
   "outputs": [],
   "source": [
    "def info_of_numerical(col):\n",
    "    print(f\"The mean of the {col} is {df[col].mean()}\")\n",
    "    print(f\"The median of the {col} is {df[col].median()}\")\n",
    "    print(f\"The mode of the {col} is {df[col].mode()[0]}\")\n",
    "    print(f\"The standard deviation of the {col} is {df[col].std()}\")\n",
    "    print(f\"Number of missing values in the {col} is {df[col].isnull().sum()}\")"
   ]
  },
  {
   "cell_type": "code",
   "execution_count": 11,
   "id": "c4236978",
   "metadata": {},
   "outputs": [],
   "source": [
    "def func_plot_numeric(col):\n",
    "    fig, ax = plt.subplots(1, 2, figsize= (20, 7))              \n",
    "    sns.histplot(x = df[col], ax =ax[1], color = \"m\",kde=True) \n",
    "    sns.boxplot(x = df[col], ax = ax[0], color = \"g\") \n",
    "    plt.show()\n"
   ]
  },
  {
   "cell_type": "code",
   "execution_count": 12,
   "id": "6b989a24",
   "metadata": {},
   "outputs": [
    {
     "name": "stdout",
     "output_type": "stream",
     "text": [
      "The mean of the Age is 38.85\n",
      "The median of the Age is 36.0\n",
      "The mode of the Age is 32\n",
      "The standard deviation of the Age is 13.969007331558883\n",
      "Number of missing values in the Age is 0\n"
     ]
    }
   ],
   "source": [
    "info_of_numerical('Age')"
   ]
  },
  {
   "cell_type": "code",
   "execution_count": 13,
   "id": "13754854",
   "metadata": {},
   "outputs": [
    {
     "data": {
      "image/png": "[encoded data removed]",
      "text/plain": [
       "<Figure size 1440x504 with 2 Axes>"
      ]
     },
     "metadata": {
      "needs_background": "light"
     },
     "output_type": "display_data"
    }
   ],
   "source": [
    "func_plot_numeric('Age')"
   ]
  },
  {
   "cell_type": "code",
   "execution_count": 14,
   "id": "1613d5be",
   "metadata": {},
   "outputs": [
    {
     "data": {
      "text/plain": [
       "count    200.000000\n",
       "mean      38.850000\n",
       "std       13.969007\n",
       "min       18.000000\n",
       "25%       28.750000\n",
       "50%       36.000000\n",
       "75%       49.000000\n",
       "max       70.000000\n",
       "Name: Age, dtype: float64"
      ]
     },
     "execution_count": 14,
     "metadata": {},
     "output_type": "execute_result"
    }
   ],
   "source": [
    "df['Age'].describe()"
   ]
  },
  {
   "cell_type": "markdown",
   "id": "d515a20d",
   "metadata": {},
   "source": [
    "#  As we  can see that in item outlet sales q3-q2>q2-q1 ideally it follows a right skewed distribution but since mean is approximately equal to median and mode we can say that the graph is symmetrically distributed about the mean so we can say that age of the customers are symmetrically distributed and there are equal no. of customers below and above 38 years of age"
   ]
  },
  {
   "cell_type": "markdown",
   "id": "d7935c91",
   "metadata": {},
   "source": [
    "info_of_numerical('Annual Income (k$)')"
   ]
  },
  {
   "cell_type": "code",
   "execution_count": 16,
   "id": "96961629",
   "metadata": {},
   "outputs": [
    {
     "data": {
      "image/png": "[encoded data removed]",
      "text/plain": [
       "<Figure size 1440x504 with 2 Axes>"
      ]
     },
     "metadata": {
      "needs_background": "light"
     },
     "output_type": "display_data"
    }
   ],
   "source": [
    "func_plot_numeric('Annual Income (k$)')"
   ]
  },
  {
   "cell_type": "code",
   "execution_count": 17,
   "id": "eade5c33",
   "metadata": {},
   "outputs": [
    {
     "data": {
      "text/plain": [
       "count    200.000000\n",
       "mean      60.560000\n",
       "std       26.264721\n",
       "min       15.000000\n",
       "25%       41.500000\n",
       "50%       61.500000\n",
       "75%       78.000000\n",
       "max      137.000000\n",
       "Name: Annual Income (k$), dtype: float64"
      ]
     },
     "execution_count": 17,
     "metadata": {},
     "output_type": "execute_result"
    }
   ],
   "source": [
    "df['Annual Income (k$)'].describe()"
   ]
  },
  {
   "cell_type": "markdown",
   "id": "aa3897c9",
   "metadata": {},
   "source": [
    "# Annual income is normally distributed about the mean 61 so the approximately half of the customers have income less then 61000 dollars and half greater then tis amount  that means we have low income medium income high income customers in this data set"
   ]
  },
  {
   "cell_type": "code",
   "execution_count": 18,
   "id": "1b3b5268",
   "metadata": {},
   "outputs": [
    {
     "name": "stdout",
     "output_type": "stream",
     "text": [
      "The mean of the Spending Score (1-100) is 50.2\n",
      "The median of the Spending Score (1-100) is 50.0\n",
      "The mode of the Spending Score (1-100) is 42\n",
      "The standard deviation of the Spending Score (1-100) is 25.823521668370162\n",
      "Number of missing values in the Spending Score (1-100) is 0\n"
     ]
    }
   ],
   "source": [
    "info_of_numerical(\"Spending Score (1-100)\")"
   ]
  },
  {
   "cell_type": "code",
   "execution_count": 19,
   "id": "a26748ea",
   "metadata": {},
   "outputs": [
    {
     "data": {
      "image/png": "[encoded data removed]",
      "text/plain": [
       "<Figure size 1440x504 with 2 Axes>"
      ]
     },
     "metadata": {
      "needs_background": "light"
     },
     "output_type": "display_data"
    }
   ],
   "source": [
    "func_plot_numeric(\"Spending Score (1-100)\")"
   ]
  },
  {
   "cell_type": "code",
   "execution_count": 20,
   "id": "aca52db6",
   "metadata": {},
   "outputs": [
    {
     "data": {
      "text/plain": [
       "42    8\n",
       "55    7\n",
       "46    6\n",
       "73    6\n",
       "35    5\n",
       "     ..\n",
       "31    1\n",
       "44    1\n",
       "53    1\n",
       "65    1\n",
       "18    1\n",
       "Name: Spending Score (1-100), Length: 84, dtype: int64"
      ]
     },
     "execution_count": 20,
     "metadata": {},
     "output_type": "execute_result"
    }
   ],
   "source": [
    "df[\"Spending Score (1-100)\"].value_counts()"
   ]
  },
  {
   "cell_type": "code",
   "execution_count": 21,
   "id": "af999302",
   "metadata": {},
   "outputs": [
    {
     "data": {
      "text/plain": [
       "<AxesSubplot:xlabel='Spending Score (1-100)', ylabel='Gender'>"
      ]
     },
     "execution_count": 21,
     "metadata": {},
     "output_type": "execute_result"
    },
    {
     "data": {
      "image/png": "[encoded data removed]",
      "text/plain": [
       "<Figure size 1152x648 with 2 Axes>"
      ]
     },
     "metadata": {
      "needs_background": "light"
     },
     "output_type": "display_data"
    }
   ],
   "source": [
    "fig,ax=plt.subplots(1,2,figsize=(16,9))\n",
    "sns.histplot(x=df['Spending Score (1-100)'],hue=df['Gender'],ax=ax[0])\n",
    "sns.boxplot(x=df['Spending Score (1-100)'],y=df['Gender'])"
   ]
  },
  {
   "cell_type": "markdown",
   "id": "90d01c90",
   "metadata": {},
   "source": [
    "# Spending scores of females shows better consitency as more number of females lie in more then 50 score "
   ]
  },
  {
   "cell_type": "code",
   "execution_count": 166,
   "id": "73d3502e",
   "metadata": {},
   "outputs": [
    {
     "data": {
      "text/plain": [
       "<seaborn.axisgrid.FacetGrid at 0x2887a811460>"
      ]
     },
     "execution_count": 166,
     "metadata": {},
     "output_type": "execute_result"
    },
    {
     "data": {
      "image/png": "[encoded data removed]",
      "text/plain": [
       "<Figure size 360x360 with 1 Axes>"
      ]
     },
     "metadata": {
      "needs_background": "light"
     },
     "output_type": "display_data"
    }
   ],
   "source": [
    "sns.lmplot(data=df_1,x='Age',y='Annual Income (k$)')"
   ]
  },
  {
   "cell_type": "code",
   "execution_count": 23,
   "id": "9c792af5",
   "metadata": {},
   "outputs": [
    {
     "data": {
      "text/plain": [
       "-0.012398042736060145"
      ]
     },
     "execution_count": 23,
     "metadata": {},
     "output_type": "execute_result"
    }
   ],
   "source": [
    "df['Age'].corr(df['Annual Income (k$)'])"
   ]
  },
  {
   "cell_type": "markdown",
   "id": "793a01ac",
   "metadata": {},
   "source": [
    "# As we can see that the correaltion value is negative it implies that as the age increases annual income decreases"
   ]
  },
  {
   "cell_type": "code",
   "execution_count": 24,
   "id": "1d9de9b9",
   "metadata": {},
   "outputs": [
    {
     "data": {
      "text/plain": [
       "<AxesSubplot:xlabel='Age', ylabel='Annual Income (k$)'>"
      ]
     },
     "execution_count": 24,
     "metadata": {},
     "output_type": "execute_result"
    },
    {
     "data": {
      "image/png": "[encoded data removed]",
      "text/plain": [
       "<Figure size 432x288 with 1 Axes>"
      ]
     },
     "metadata": {
      "needs_background": "light"
     },
     "output_type": "display_data"
    }
   ],
   "source": [
    "sns.scatterplot(x=df['Age'],y=df['Annual Income (k$)'],hue=df['Gender'])"
   ]
  },
  {
   "cell_type": "code",
   "execution_count": 25,
   "id": "e340e108",
   "metadata": {},
   "outputs": [
    {
     "data": {
      "text/html": [
       "<div>\n",
       "<style scoped>\n",
       "    .dataframe tbody tr th:only-of-type {\n",
       "        vertical-align: middle;\n",
       "    }\n",
       "\n",
       "    .dataframe tbody tr th {\n",
       "        vertical-align: top;\n",
       "    }\n",
       "\n",
       "    .dataframe thead th {\n",
       "        text-align: right;\n",
       "    }\n",
       "</style>\n",
       "<table border=\"1\" class=\"dataframe\">\n",
       "  <thead>\n",
       "    <tr style=\"text-align: right;\">\n",
       "      <th></th>\n",
       "      <th>CustomerID</th>\n",
       "      <th>Age</th>\n",
       "      <th>Annual Income (k$)</th>\n",
       "      <th>Spending Score (1-100)</th>\n",
       "    </tr>\n",
       "  </thead>\n",
       "  <tbody>\n",
       "    <tr>\n",
       "      <th>CustomerID</th>\n",
       "      <td>1.000000</td>\n",
       "      <td>-0.095603</td>\n",
       "      <td>0.969826</td>\n",
       "      <td>-0.045814</td>\n",
       "    </tr>\n",
       "    <tr>\n",
       "      <th>Age</th>\n",
       "      <td>-0.095603</td>\n",
       "      <td>1.000000</td>\n",
       "      <td>-0.092978</td>\n",
       "      <td>-0.279628</td>\n",
       "    </tr>\n",
       "    <tr>\n",
       "      <th>Annual Income (k$)</th>\n",
       "      <td>0.969826</td>\n",
       "      <td>-0.092978</td>\n",
       "      <td>1.000000</td>\n",
       "      <td>-0.023684</td>\n",
       "    </tr>\n",
       "    <tr>\n",
       "      <th>Spending Score (1-100)</th>\n",
       "      <td>-0.045814</td>\n",
       "      <td>-0.279628</td>\n",
       "      <td>-0.023684</td>\n",
       "      <td>1.000000</td>\n",
       "    </tr>\n",
       "  </tbody>\n",
       "</table>\n",
       "</div>"
      ],
      "text/plain": [
       "                        CustomerID       Age  Annual Income (k$)  \\\n",
       "CustomerID                1.000000 -0.095603            0.969826   \n",
       "Age                      -0.095603  1.000000           -0.092978   \n",
       "Annual Income (k$)        0.969826 -0.092978            1.000000   \n",
       "Spending Score (1-100)   -0.045814 -0.279628           -0.023684   \n",
       "\n",
       "                        Spending Score (1-100)  \n",
       "CustomerID                           -0.045814  \n",
       "Age                                  -0.279628  \n",
       "Annual Income (k$)                   -0.023684  \n",
       "Spending Score (1-100)                1.000000  "
      ]
     },
     "execution_count": 25,
     "metadata": {},
     "output_type": "execute_result"
    }
   ],
   "source": [
    "df[df['Gender']=='Male'].corr()"
   ]
  },
  {
   "cell_type": "code",
   "execution_count": 26,
   "id": "da620c0c",
   "metadata": {},
   "outputs": [
    {
     "data": {
      "text/html": [
       "<div>\n",
       "<style scoped>\n",
       "    .dataframe tbody tr th:only-of-type {\n",
       "        vertical-align: middle;\n",
       "    }\n",
       "\n",
       "    .dataframe tbody tr th {\n",
       "        vertical-align: top;\n",
       "    }\n",
       "\n",
       "    .dataframe thead th {\n",
       "        text-align: right;\n",
       "    }\n",
       "</style>\n",
       "<table border=\"1\" class=\"dataframe\">\n",
       "  <thead>\n",
       "    <tr style=\"text-align: right;\">\n",
       "      <th></th>\n",
       "      <th>CustomerID</th>\n",
       "      <th>Age</th>\n",
       "      <th>Annual Income (k$)</th>\n",
       "      <th>Spending Score (1-100)</th>\n",
       "    </tr>\n",
       "  </thead>\n",
       "  <tbody>\n",
       "    <tr>\n",
       "      <th>CustomerID</th>\n",
       "      <td>1.000000</td>\n",
       "      <td>0.031175</td>\n",
       "      <td>0.983836</td>\n",
       "      <td>0.073714</td>\n",
       "    </tr>\n",
       "    <tr>\n",
       "      <th>Age</th>\n",
       "      <td>0.031175</td>\n",
       "      <td>1.000000</td>\n",
       "      <td>0.059912</td>\n",
       "      <td>-0.375439</td>\n",
       "    </tr>\n",
       "    <tr>\n",
       "      <th>Annual Income (k$)</th>\n",
       "      <td>0.983836</td>\n",
       "      <td>0.059912</td>\n",
       "      <td>1.000000</td>\n",
       "      <td>0.047542</td>\n",
       "    </tr>\n",
       "    <tr>\n",
       "      <th>Spending Score (1-100)</th>\n",
       "      <td>0.073714</td>\n",
       "      <td>-0.375439</td>\n",
       "      <td>0.047542</td>\n",
       "      <td>1.000000</td>\n",
       "    </tr>\n",
       "  </tbody>\n",
       "</table>\n",
       "</div>"
      ],
      "text/plain": [
       "                        CustomerID       Age  Annual Income (k$)  \\\n",
       "CustomerID                1.000000  0.031175            0.983836   \n",
       "Age                       0.031175  1.000000            0.059912   \n",
       "Annual Income (k$)        0.983836  0.059912            1.000000   \n",
       "Spending Score (1-100)    0.073714 -0.375439            0.047542   \n",
       "\n",
       "                        Spending Score (1-100)  \n",
       "CustomerID                            0.073714  \n",
       "Age                                  -0.375439  \n",
       "Annual Income (k$)                    0.047542  \n",
       "Spending Score (1-100)                1.000000  "
      ]
     },
     "execution_count": 26,
     "metadata": {},
     "output_type": "execute_result"
    }
   ],
   "source": [
    "df[df['Gender']=='Female'].corr()"
   ]
  },
  {
   "cell_type": "markdown",
   "id": "78867ef1",
   "metadata": {},
   "source": [
    "# As we can see that correlation value for male is negative therefore as age increases for male income decreases"
   ]
  },
  {
   "cell_type": "markdown",
   "id": "892066e0",
   "metadata": {},
   "source": [
    "# As we can see that correlation value for female is positive therefore as age increases for income for female increases"
   ]
  },
  {
   "cell_type": "code",
   "execution_count": 28,
   "id": "48a52fe9",
   "metadata": {},
   "outputs": [
    {
     "data": {
      "text/html": [
       "<div>\n",
       "<style scoped>\n",
       "    .dataframe tbody tr th:only-of-type {\n",
       "        vertical-align: middle;\n",
       "    }\n",
       "\n",
       "    .dataframe tbody tr th {\n",
       "        vertical-align: top;\n",
       "    }\n",
       "\n",
       "    .dataframe thead th {\n",
       "        text-align: right;\n",
       "    }\n",
       "</style>\n",
       "<table border=\"1\" class=\"dataframe\">\n",
       "  <thead>\n",
       "    <tr style=\"text-align: right;\">\n",
       "      <th></th>\n",
       "      <th>CustomerID</th>\n",
       "      <th>Gender</th>\n",
       "      <th>Age</th>\n",
       "      <th>Annual Income (k$)</th>\n",
       "      <th>Spending Score (1-100)</th>\n",
       "    </tr>\n",
       "  </thead>\n",
       "  <tbody>\n",
       "    <tr>\n",
       "      <th>0</th>\n",
       "      <td>1</td>\n",
       "      <td>Male</td>\n",
       "      <td>19</td>\n",
       "      <td>15</td>\n",
       "      <td>39</td>\n",
       "    </tr>\n",
       "    <tr>\n",
       "      <th>1</th>\n",
       "      <td>2</td>\n",
       "      <td>Male</td>\n",
       "      <td>21</td>\n",
       "      <td>15</td>\n",
       "      <td>81</td>\n",
       "    </tr>\n",
       "    <tr>\n",
       "      <th>8</th>\n",
       "      <td>9</td>\n",
       "      <td>Male</td>\n",
       "      <td>64</td>\n",
       "      <td>19</td>\n",
       "      <td>3</td>\n",
       "    </tr>\n",
       "    <tr>\n",
       "      <th>10</th>\n",
       "      <td>11</td>\n",
       "      <td>Male</td>\n",
       "      <td>67</td>\n",
       "      <td>19</td>\n",
       "      <td>14</td>\n",
       "    </tr>\n",
       "    <tr>\n",
       "      <th>14</th>\n",
       "      <td>15</td>\n",
       "      <td>Male</td>\n",
       "      <td>37</td>\n",
       "      <td>20</td>\n",
       "      <td>13</td>\n",
       "    </tr>\n",
       "    <tr>\n",
       "      <th>...</th>\n",
       "      <td>...</td>\n",
       "      <td>...</td>\n",
       "      <td>...</td>\n",
       "      <td>...</td>\n",
       "      <td>...</td>\n",
       "    </tr>\n",
       "    <tr>\n",
       "      <th>187</th>\n",
       "      <td>188</td>\n",
       "      <td>Male</td>\n",
       "      <td>28</td>\n",
       "      <td>101</td>\n",
       "      <td>68</td>\n",
       "    </tr>\n",
       "    <tr>\n",
       "      <th>192</th>\n",
       "      <td>193</td>\n",
       "      <td>Male</td>\n",
       "      <td>33</td>\n",
       "      <td>113</td>\n",
       "      <td>8</td>\n",
       "    </tr>\n",
       "    <tr>\n",
       "      <th>197</th>\n",
       "      <td>198</td>\n",
       "      <td>Male</td>\n",
       "      <td>32</td>\n",
       "      <td>126</td>\n",
       "      <td>74</td>\n",
       "    </tr>\n",
       "    <tr>\n",
       "      <th>198</th>\n",
       "      <td>199</td>\n",
       "      <td>Male</td>\n",
       "      <td>32</td>\n",
       "      <td>137</td>\n",
       "      <td>18</td>\n",
       "    </tr>\n",
       "    <tr>\n",
       "      <th>199</th>\n",
       "      <td>200</td>\n",
       "      <td>Male</td>\n",
       "      <td>30</td>\n",
       "      <td>137</td>\n",
       "      <td>83</td>\n",
       "    </tr>\n",
       "  </tbody>\n",
       "</table>\n",
       "<p>88 rows × 5 columns</p>\n",
       "</div>"
      ],
      "text/plain": [
       "     CustomerID Gender  Age  Annual Income (k$)  Spending Score (1-100)\n",
       "0             1   Male   19                  15                      39\n",
       "1             2   Male   21                  15                      81\n",
       "8             9   Male   64                  19                       3\n",
       "10           11   Male   67                  19                      14\n",
       "14           15   Male   37                  20                      13\n",
       "..          ...    ...  ...                 ...                     ...\n",
       "187         188   Male   28                 101                      68\n",
       "192         193   Male   33                 113                       8\n",
       "197         198   Male   32                 126                      74\n",
       "198         199   Male   32                 137                      18\n",
       "199         200   Male   30                 137                      83\n",
       "\n",
       "[88 rows x 5 columns]"
      ]
     },
     "execution_count": 28,
     "metadata": {},
     "output_type": "execute_result"
    }
   ],
   "source": [
    "df[df['Gender']=='Male']"
   ]
  },
  {
   "cell_type": "code",
   "execution_count": 156,
   "id": "6b91ef75",
   "metadata": {},
   "outputs": [
    {
     "data": {
      "text/plain": [
       "<seaborn.axisgrid.FacetGrid at 0x2887d33d3a0>"
      ]
     },
     "execution_count": 156,
     "metadata": {},
     "output_type": "execute_result"
    },
    {
     "data": {
      "image/png": "[encoded data removed]",
      "text/plain": [
       "<Figure size 360x360 with 1 Axes>"
      ]
     },
     "metadata": {
      "needs_background": "light"
     },
     "output_type": "display_data"
    }
   ],
   "source": [
    "sns.lmplot(data=df_1[df_1['Gender']=='Male'],x='Annual Income (k$)',y='Spending Score (1-100)')\n"
   ]
  },
  {
   "cell_type": "markdown",
   "id": "74926e9c",
   "metadata": {},
   "source": [
    "# Linear regression plot which indicates that as annual income increases spending scores decreases for male so there are some factors due to which they have been given less spending scores"
   ]
  },
  {
   "cell_type": "code",
   "execution_count": 167,
   "id": "2f03dfb0",
   "metadata": {},
   "outputs": [
    {
     "data": {
      "text/plain": [
       "<seaborn.axisgrid.FacetGrid at 0x2887a811070>"
      ]
     },
     "execution_count": 167,
     "metadata": {},
     "output_type": "execute_result"
    },
    {
     "data": {
      "image/png": "[encoded data removed]",
      "text/plain": [
       "<Figure size 360x360 with 1 Axes>"
      ]
     },
     "metadata": {
      "needs_background": "light"
     },
     "output_type": "display_data"
    }
   ],
   "source": [
    "sns.lmplot(data=df_1[df_1['Gender']=='Female'],x='Annual Income (k$)',y='Spending Score (1-100)')"
   ]
  },
  {
   "cell_type": "markdown",
   "id": "ac8749a9",
   "metadata": {},
   "source": [
    "# For female as annual income increaes spending score increases so there are some factors which contribute to this increment"
   ]
  },
  {
   "cell_type": "markdown",
   "id": "50753038",
   "metadata": {},
   "source": [
    "# Both for male and females as age  increaes spending score decreases that means with age interest level in shopping decreases"
   ]
  },
  {
   "cell_type": "code",
   "execution_count": 31,
   "id": "05c234f2",
   "metadata": {},
   "outputs": [
    {
     "data": {
      "text/html": [
       "<div>\n",
       "<style scoped>\n",
       "    .dataframe tbody tr th:only-of-type {\n",
       "        vertical-align: middle;\n",
       "    }\n",
       "\n",
       "    .dataframe tbody tr th {\n",
       "        vertical-align: top;\n",
       "    }\n",
       "\n",
       "    .dataframe thead th {\n",
       "        text-align: right;\n",
       "    }\n",
       "</style>\n",
       "<table border=\"1\" class=\"dataframe\">\n",
       "  <thead>\n",
       "    <tr style=\"text-align: right;\">\n",
       "      <th></th>\n",
       "      <th>CustomerID</th>\n",
       "      <th>Age</th>\n",
       "      <th>Annual Income (k$)</th>\n",
       "      <th>Spending Score (1-100)</th>\n",
       "    </tr>\n",
       "  </thead>\n",
       "  <tbody>\n",
       "    <tr>\n",
       "      <th>CustomerID</th>\n",
       "      <td>1.000000</td>\n",
       "      <td>-0.026763</td>\n",
       "      <td>0.977548</td>\n",
       "      <td>0.013835</td>\n",
       "    </tr>\n",
       "    <tr>\n",
       "      <th>Age</th>\n",
       "      <td>-0.026763</td>\n",
       "      <td>1.000000</td>\n",
       "      <td>-0.012398</td>\n",
       "      <td>-0.327227</td>\n",
       "    </tr>\n",
       "    <tr>\n",
       "      <th>Annual Income (k$)</th>\n",
       "      <td>0.977548</td>\n",
       "      <td>-0.012398</td>\n",
       "      <td>1.000000</td>\n",
       "      <td>0.009903</td>\n",
       "    </tr>\n",
       "    <tr>\n",
       "      <th>Spending Score (1-100)</th>\n",
       "      <td>0.013835</td>\n",
       "      <td>-0.327227</td>\n",
       "      <td>0.009903</td>\n",
       "      <td>1.000000</td>\n",
       "    </tr>\n",
       "  </tbody>\n",
       "</table>\n",
       "</div>"
      ],
      "text/plain": [
       "                        CustomerID       Age  Annual Income (k$)  \\\n",
       "CustomerID                1.000000 -0.026763            0.977548   \n",
       "Age                      -0.026763  1.000000           -0.012398   \n",
       "Annual Income (k$)        0.977548 -0.012398            1.000000   \n",
       "Spending Score (1-100)    0.013835 -0.327227            0.009903   \n",
       "\n",
       "                        Spending Score (1-100)  \n",
       "CustomerID                            0.013835  \n",
       "Age                                  -0.327227  \n",
       "Annual Income (k$)                    0.009903  \n",
       "Spending Score (1-100)                1.000000  "
      ]
     },
     "execution_count": 31,
     "metadata": {},
     "output_type": "execute_result"
    }
   ],
   "source": [
    "df.corr()"
   ]
  },
  {
   "cell_type": "code",
   "execution_count": 32,
   "id": "c42af05b",
   "metadata": {},
   "outputs": [
    {
     "name": "stdout",
     "output_type": "stream",
     "text": [
      "<class 'pandas.core.frame.DataFrame'>\n",
      "RangeIndex: 200 entries, 0 to 199\n",
      "Data columns (total 5 columns):\n",
      " #   Column                  Non-Null Count  Dtype \n",
      "---  ------                  --------------  ----- \n",
      " 0   CustomerID              200 non-null    int64 \n",
      " 1   Gender                  200 non-null    object\n",
      " 2   Age                     200 non-null    int64 \n",
      " 3   Annual Income (k$)      200 non-null    int64 \n",
      " 4   Spending Score (1-100)  200 non-null    int64 \n",
      "dtypes: int64(4), object(1)\n",
      "memory usage: 7.9+ KB\n"
     ]
    }
   ],
   "source": [
    "df.info()"
   ]
  },
  {
   "cell_type": "code",
   "execution_count": 33,
   "id": "e3bb28b9",
   "metadata": {},
   "outputs": [],
   "source": [
    "df['Gender']=df['Gender'].astype(\"category\")"
   ]
  },
  {
   "cell_type": "code",
   "execution_count": 34,
   "id": "8d2d7a32",
   "metadata": {},
   "outputs": [
    {
     "name": "stdout",
     "output_type": "stream",
     "text": [
      "<class 'pandas.core.frame.DataFrame'>\n",
      "RangeIndex: 200 entries, 0 to 199\n",
      "Data columns (total 5 columns):\n",
      " #   Column                  Non-Null Count  Dtype   \n",
      "---  ------                  --------------  -----   \n",
      " 0   CustomerID              200 non-null    int64   \n",
      " 1   Gender                  200 non-null    category\n",
      " 2   Age                     200 non-null    int64   \n",
      " 3   Annual Income (k$)      200 non-null    int64   \n",
      " 4   Spending Score (1-100)  200 non-null    int64   \n",
      "dtypes: category(1), int64(4)\n",
      "memory usage: 6.7 KB\n"
     ]
    }
   ],
   "source": [
    "df.info()"
   ]
  },
  {
   "cell_type": "markdown",
   "id": "8dc2bc2c",
   "metadata": {},
   "source": [
    "# Converting category into integer using label encoder"
   ]
  },
  {
   "cell_type": "code",
   "execution_count": 35,
   "id": "9d8985ba",
   "metadata": {},
   "outputs": [],
   "source": [
    "from sklearn.preprocessing import LabelEncoder"
   ]
  },
  {
   "cell_type": "code",
   "execution_count": 36,
   "id": "b7ab0de1",
   "metadata": {},
   "outputs": [],
   "source": [
    "label=LabelEncoder()"
   ]
  },
  {
   "cell_type": "code",
   "execution_count": 37,
   "id": "729ddbde",
   "metadata": {},
   "outputs": [],
   "source": [
    "df['Gender']=label.fit_transform(df['Gender'])"
   ]
  },
  {
   "cell_type": "markdown",
   "id": "76e8aae7",
   "metadata": {},
   "source": [
    "# Scaling the data using standard scaler"
   ]
  },
  {
   "cell_type": "code",
   "execution_count": 38,
   "id": "c2e801e9",
   "metadata": {},
   "outputs": [],
   "source": [
    "from sklearn.preprocessing import StandardScaler"
   ]
  },
  {
   "cell_type": "code",
   "execution_count": 39,
   "id": "cb0530a2",
   "metadata": {},
   "outputs": [],
   "source": [
    "scaler=StandardScaler()"
   ]
  },
  {
   "cell_type": "code",
   "execution_count": 40,
   "id": "52128f48",
   "metadata": {},
   "outputs": [],
   "source": [
    "df_scaled = scaler.fit_transform(df.drop('CustomerID',axis=1))"
   ]
  },
  {
   "cell_type": "code",
   "execution_count": 41,
   "id": "520cfdb1",
   "metadata": {},
   "outputs": [
    {
     "data": {
      "text/plain": [
       "array([[ 1.12815215, -1.42456879, -1.73899919, -0.43480148],\n",
       "       [ 1.12815215, -1.28103541, -1.73899919,  1.19570407],\n",
       "       [-0.88640526, -1.3528021 , -1.70082976, -1.71591298],\n",
       "       [-0.88640526, -1.13750203, -1.70082976,  1.04041783],\n",
       "       [-0.88640526, -0.56336851, -1.66266033, -0.39597992],\n",
       "       [-0.88640526, -1.20926872, -1.66266033,  1.00159627],\n",
       "       [-0.88640526, -0.27630176, -1.62449091, -1.71591298],\n",
       "       [-0.88640526, -1.13750203, -1.62449091,  1.70038436],\n",
       "       [ 1.12815215,  1.80493225, -1.58632148, -1.83237767],\n",
       "       [-0.88640526, -0.6351352 , -1.58632148,  0.84631002],\n",
       "       [ 1.12815215,  2.02023231, -1.58632148, -1.4053405 ],\n",
       "       [-0.88640526, -0.27630176, -1.58632148,  1.89449216],\n",
       "       [-0.88640526,  1.37433211, -1.54815205, -1.36651894],\n",
       "       [-0.88640526, -1.06573534, -1.54815205,  1.04041783],\n",
       "       [ 1.12815215, -0.13276838, -1.54815205, -1.44416206],\n",
       "       [ 1.12815215, -1.20926872, -1.54815205,  1.11806095],\n",
       "       [-0.88640526, -0.27630176, -1.50998262, -0.59008772],\n",
       "       [ 1.12815215, -1.3528021 , -1.50998262,  0.61338066],\n",
       "       [ 1.12815215,  0.94373197, -1.43364376, -0.82301709],\n",
       "       [-0.88640526, -0.27630176, -1.43364376,  1.8556706 ],\n",
       "       [ 1.12815215, -0.27630176, -1.39547433, -0.59008772],\n",
       "       [ 1.12815215, -0.99396865, -1.39547433,  0.88513158],\n",
       "       [-0.88640526,  0.51313183, -1.3573049 , -1.75473454],\n",
       "       [ 1.12815215, -0.56336851, -1.3573049 ,  0.88513158],\n",
       "       [-0.88640526,  1.08726535, -1.24279661, -1.4053405 ],\n",
       "       [ 1.12815215, -0.70690189, -1.24279661,  1.23452563],\n",
       "       [-0.88640526,  0.44136514, -1.24279661, -0.7065524 ],\n",
       "       [ 1.12815215, -0.27630176, -1.24279661,  0.41927286],\n",
       "       [-0.88640526,  0.08253169, -1.20462718, -0.74537397],\n",
       "       [-0.88640526, -1.13750203, -1.20462718,  1.42863343],\n",
       "       [ 1.12815215,  1.51786549, -1.16645776, -1.7935561 ],\n",
       "       [-0.88640526, -1.28103541, -1.16645776,  0.88513158],\n",
       "       [ 1.12815215,  1.01549866, -1.05194947, -1.7935561 ],\n",
       "       [ 1.12815215, -1.49633548, -1.05194947,  1.62274124],\n",
       "       [-0.88640526,  0.7284319 , -1.05194947, -1.4053405 ],\n",
       "       [-0.88640526, -1.28103541, -1.05194947,  1.19570407],\n",
       "       [-0.88640526,  0.22606507, -1.01378004, -1.28887582],\n",
       "       [-0.88640526, -0.6351352 , -1.01378004,  0.88513158],\n",
       "       [-0.88640526, -0.20453507, -0.89927175, -0.93948177],\n",
       "       [-0.88640526, -1.3528021 , -0.89927175,  0.96277471],\n",
       "       [-0.88640526,  1.87669894, -0.86110232, -0.59008772],\n",
       "       [ 1.12815215, -1.06573534, -0.86110232,  1.62274124],\n",
       "       [ 1.12815215,  0.65666521, -0.82293289, -0.55126616],\n",
       "       [-0.88640526, -0.56336851, -0.82293289,  0.41927286],\n",
       "       [-0.88640526,  0.7284319 , -0.82293289, -0.86183865],\n",
       "       [-0.88640526, -1.06573534, -0.82293289,  0.5745591 ],\n",
       "       [-0.88640526,  0.80019859, -0.78476346,  0.18634349],\n",
       "       [-0.88640526, -0.85043527, -0.78476346, -0.12422899],\n",
       "       [-0.88640526, -0.70690189, -0.78476346, -0.3183368 ],\n",
       "       [-0.88640526, -0.56336851, -0.78476346, -0.3183368 ],\n",
       "       [-0.88640526,  0.7284319 , -0.70842461,  0.06987881],\n",
       "       [ 1.12815215, -0.41983513, -0.70842461,  0.38045129],\n",
       "       [-0.88640526, -0.56336851, -0.67025518,  0.14752193],\n",
       "       [ 1.12815215,  1.4460988 , -0.67025518,  0.38045129],\n",
       "       [-0.88640526,  0.80019859, -0.67025518, -0.20187212],\n",
       "       [ 1.12815215,  0.58489852, -0.67025518, -0.35715836],\n",
       "       [-0.88640526,  0.87196528, -0.63208575, -0.00776431],\n",
       "       [ 1.12815215,  2.16376569, -0.63208575, -0.16305055],\n",
       "       [-0.88640526, -0.85043527, -0.55574689,  0.03105725],\n",
       "       [ 1.12815215,  1.01549866, -0.55574689, -0.16305055],\n",
       "       [ 1.12815215,  2.23553238, -0.55574689,  0.22516505],\n",
       "       [ 1.12815215, -1.42456879, -0.55574689,  0.18634349],\n",
       "       [-0.88640526,  2.02023231, -0.51757746,  0.06987881],\n",
       "       [-0.88640526,  1.08726535, -0.51757746,  0.34162973],\n",
       "       [ 1.12815215,  1.73316556, -0.47940803,  0.03105725],\n",
       "       [ 1.12815215, -1.49633548, -0.47940803,  0.34162973],\n",
       "       [-0.88640526,  0.29783176, -0.47940803, -0.00776431],\n",
       "       [-0.88640526,  2.091999  , -0.47940803, -0.08540743],\n",
       "       [ 1.12815215, -1.42456879, -0.47940803,  0.34162973],\n",
       "       [-0.88640526, -0.49160182, -0.47940803, -0.12422899],\n",
       "       [ 1.12815215,  2.23553238, -0.4412386 ,  0.18634349],\n",
       "       [-0.88640526,  0.58489852, -0.4412386 , -0.3183368 ],\n",
       "       [-0.88640526,  1.51786549, -0.40306917, -0.04658587],\n",
       "       [-0.88640526,  1.51786549, -0.40306917,  0.22516505],\n",
       "       [ 1.12815215,  1.4460988 , -0.25039146, -0.12422899],\n",
       "       [ 1.12815215, -0.92220196, -0.25039146,  0.14752193],\n",
       "       [-0.88640526,  0.44136514, -0.25039146,  0.10870037],\n",
       "       [ 1.12815215,  0.08253169, -0.25039146, -0.08540743],\n",
       "       [-0.88640526, -1.13750203, -0.25039146,  0.06987881],\n",
       "       [-0.88640526,  0.7284319 , -0.25039146, -0.3183368 ],\n",
       "       [ 1.12815215,  1.30256542, -0.25039146,  0.03105725],\n",
       "       [ 1.12815215, -0.06100169, -0.25039146,  0.18634349],\n",
       "       [ 1.12815215,  2.02023231, -0.25039146, -0.35715836],\n",
       "       [-0.88640526,  0.51313183, -0.25039146, -0.24069368],\n",
       "       [-0.88640526, -1.28103541, -0.25039146,  0.26398661],\n",
       "       [ 1.12815215,  0.65666521, -0.25039146, -0.16305055],\n",
       "       [-0.88640526,  1.15903204, -0.13588317,  0.30280817],\n",
       "       [-0.88640526, -1.20926872, -0.13588317,  0.18634349],\n",
       "       [-0.88640526, -0.34806844, -0.09771374,  0.38045129],\n",
       "       [-0.88640526,  0.80019859, -0.09771374, -0.16305055],\n",
       "       [-0.88640526,  2.091999  , -0.05954431,  0.18634349],\n",
       "       [ 1.12815215, -1.49633548, -0.05954431, -0.35715836],\n",
       "       [ 1.12815215,  0.65666521, -0.02137488, -0.04658587],\n",
       "       [-0.88640526,  0.08253169, -0.02137488, -0.39597992],\n",
       "       [-0.88640526, -0.49160182, -0.02137488, -0.3183368 ],\n",
       "       [ 1.12815215, -1.06573534, -0.02137488,  0.06987881],\n",
       "       [-0.88640526,  0.58489852, -0.02137488, -0.12422899],\n",
       "       [-0.88640526, -0.85043527, -0.02137488, -0.00776431],\n",
       "       [ 1.12815215,  0.65666521,  0.01679455, -0.3183368 ],\n",
       "       [ 1.12815215, -1.3528021 ,  0.01679455, -0.04658587],\n",
       "       [-0.88640526, -1.13750203,  0.05496398, -0.35715836],\n",
       "       [-0.88640526,  0.7284319 ,  0.05496398, -0.08540743],\n",
       "       [ 1.12815215,  2.02023231,  0.05496398,  0.34162973],\n",
       "       [ 1.12815215, -0.92220196,  0.05496398,  0.18634349],\n",
       "       [ 1.12815215,  0.7284319 ,  0.05496398,  0.22516505],\n",
       "       [-0.88640526, -1.28103541,  0.05496398, -0.3183368 ],\n",
       "       [-0.88640526,  1.94846562,  0.09313341, -0.00776431],\n",
       "       [ 1.12815215,  1.08726535,  0.09313341, -0.16305055],\n",
       "       [ 1.12815215,  2.091999  ,  0.09313341, -0.27951524],\n",
       "       [ 1.12815215,  1.94846562,  0.09313341, -0.08540743],\n",
       "       [ 1.12815215,  1.87669894,  0.09313341,  0.06987881],\n",
       "       [-0.88640526, -1.42456879,  0.09313341,  0.14752193],\n",
       "       [-0.88640526, -0.06100169,  0.13130284, -0.3183368 ],\n",
       "       [ 1.12815215, -1.42456879,  0.13130284, -0.16305055],\n",
       "       [-0.88640526, -1.49633548,  0.16947227, -0.08540743],\n",
       "       [-0.88640526, -1.42456879,  0.16947227, -0.00776431],\n",
       "       [-0.88640526,  1.73316556,  0.16947227, -0.27951524],\n",
       "       [-0.88640526,  0.7284319 ,  0.16947227,  0.34162973],\n",
       "       [-0.88640526,  0.87196528,  0.24581112, -0.27951524],\n",
       "       [-0.88640526,  0.80019859,  0.24581112,  0.26398661],\n",
       "       [ 1.12815215, -0.85043527,  0.24581112,  0.22516505],\n",
       "       [-0.88640526, -0.06100169,  0.24581112, -0.39597992],\n",
       "       [-0.88640526,  0.08253169,  0.32214998,  0.30280817],\n",
       "       [ 1.12815215,  0.010765  ,  0.32214998,  1.58391968],\n",
       "       [-0.88640526, -1.13750203,  0.36031941, -0.82301709],\n",
       "       [-0.88640526, -0.56336851,  0.36031941,  1.04041783],\n",
       "       [ 1.12815215,  0.29783176,  0.39848884, -0.59008772],\n",
       "       [ 1.12815215,  0.08253169,  0.39848884,  1.73920592],\n",
       "       [ 1.12815215,  1.4460988 ,  0.39848884, -1.52180518],\n",
       "       [ 1.12815215, -0.06100169,  0.39848884,  0.96277471],\n",
       "       [ 1.12815215,  0.58489852,  0.39848884, -1.5994483 ],\n",
       "       [ 1.12815215,  0.010765  ,  0.39848884,  0.96277471],\n",
       "       [-0.88640526, -0.99396865,  0.43665827, -0.62890928],\n",
       "       [-0.88640526, -0.56336851,  0.43665827,  0.80748846],\n",
       "       [ 1.12815215, -1.3528021 ,  0.4748277 , -1.75473454],\n",
       "       [-0.88640526, -0.70690189,  0.4748277 ,  1.46745499],\n",
       "       [-0.88640526,  0.36959845,  0.4748277 , -1.67709142],\n",
       "       [ 1.12815215, -0.49160182,  0.4748277 ,  0.88513158],\n",
       "       [ 1.12815215, -1.42456879,  0.51299713, -1.56062674],\n",
       "       [-0.88640526, -0.27630176,  0.51299713,  0.84631002],\n",
       "       [-0.88640526,  1.30256542,  0.55116656, -1.75473454],\n",
       "       [ 1.12815215, -0.49160182,  0.55116656,  1.6615628 ],\n",
       "       [-0.88640526, -0.77866858,  0.58933599, -0.39597992],\n",
       "       [-0.88640526, -0.49160182,  0.58933599,  1.42863343],\n",
       "       [ 1.12815215, -0.99396865,  0.62750542, -1.48298362],\n",
       "       [ 1.12815215, -0.77866858,  0.62750542,  1.81684904],\n",
       "       [ 1.12815215,  0.65666521,  0.62750542, -0.55126616],\n",
       "       [-0.88640526, -0.49160182,  0.62750542,  0.92395314],\n",
       "       [-0.88640526, -0.34806844,  0.66567484, -1.09476801],\n",
       "       [ 1.12815215, -0.34806844,  0.66567484,  1.54509812],\n",
       "       [ 1.12815215,  0.29783176,  0.66567484, -1.28887582],\n",
       "       [ 1.12815215,  0.010765  ,  0.66567484,  1.46745499],\n",
       "       [-0.88640526,  0.36959845,  0.66567484, -1.17241113],\n",
       "       [-0.88640526, -0.06100169,  0.66567484,  1.00159627],\n",
       "       [-0.88640526,  0.58489852,  0.66567484, -1.32769738],\n",
       "       [-0.88640526, -0.85043527,  0.66567484,  1.50627656],\n",
       "       [ 1.12815215, -0.13276838,  0.66567484, -1.91002079],\n",
       "       [-0.88640526, -0.6351352 ,  0.66567484,  1.07923939],\n",
       "       [ 1.12815215, -0.34806844,  0.66567484, -1.91002079],\n",
       "       [-0.88640526, -0.6351352 ,  0.66567484,  0.88513158],\n",
       "       [-0.88640526,  1.23079873,  0.70384427, -0.59008772],\n",
       "       [-0.88640526, -0.70690189,  0.70384427,  1.27334719],\n",
       "       [ 1.12815215, -1.42456879,  0.78018313, -1.75473454],\n",
       "       [-0.88640526, -0.56336851,  0.78018313,  1.6615628 ],\n",
       "       [ 1.12815215,  0.80019859,  0.93286085, -0.93948177],\n",
       "       [-0.88640526, -0.20453507,  0.93286085,  0.96277471],\n",
       "       [ 1.12815215,  0.22606507,  0.97103028, -1.17241113],\n",
       "       [-0.88640526, -0.41983513,  0.97103028,  1.73920592],\n",
       "       [-0.88640526, -0.20453507,  1.00919971, -0.90066021],\n",
       "       [ 1.12815215, -0.49160182,  1.00919971,  0.49691598],\n",
       "       [ 1.12815215,  0.08253169,  1.00919971, -1.44416206],\n",
       "       [ 1.12815215, -0.77866858,  1.00919971,  0.96277471],\n",
       "       [ 1.12815215, -0.20453507,  1.00919971, -1.56062674],\n",
       "       [ 1.12815215, -0.20453507,  1.00919971,  1.62274124],\n",
       "       [-0.88640526,  0.94373197,  1.04736914, -1.44416206],\n",
       "       [-0.88640526, -0.6351352 ,  1.04736914,  1.38981187],\n",
       "       [ 1.12815215,  1.37433211,  1.04736914, -1.36651894],\n",
       "       [ 1.12815215, -0.85043527,  1.04736914,  0.72984534],\n",
       "       [ 1.12815215,  1.4460988 ,  1.23821628, -1.4053405 ],\n",
       "       [ 1.12815215, -0.27630176,  1.23821628,  1.54509812],\n",
       "       [-0.88640526, -0.13276838,  1.390894  , -0.7065524 ],\n",
       "       [-0.88640526, -0.49160182,  1.390894  ,  1.38981187],\n",
       "       [ 1.12815215,  0.51313183,  1.42906343, -1.36651894],\n",
       "       [-0.88640526, -0.70690189,  1.42906343,  1.46745499],\n",
       "       [-0.88640526,  0.15429838,  1.46723286, -0.43480148],\n",
       "       [ 1.12815215, -0.6351352 ,  1.46723286,  1.81684904],\n",
       "       [-0.88640526,  1.08726535,  1.54357172, -1.01712489],\n",
       "       [ 1.12815215, -0.77866858,  1.54357172,  0.69102378],\n",
       "       [-0.88640526,  0.15429838,  1.61991057, -1.28887582],\n",
       "       [-0.88640526, -0.20453507,  1.61991057,  1.35099031],\n",
       "       [-0.88640526, -0.34806844,  1.61991057, -1.05594645],\n",
       "       [-0.88640526, -0.49160182,  1.61991057,  0.72984534],\n",
       "       [ 1.12815215, -0.41983513,  2.00160487, -1.63826986],\n",
       "       [-0.88640526, -0.06100169,  2.00160487,  1.58391968],\n",
       "       [-0.88640526,  0.58489852,  2.26879087, -1.32769738],\n",
       "       [-0.88640526, -0.27630176,  2.26879087,  1.11806095],\n",
       "       [-0.88640526,  0.44136514,  2.49780745, -0.86183865],\n",
       "       [ 1.12815215, -0.49160182,  2.49780745,  0.92395314],\n",
       "       [ 1.12815215, -0.49160182,  2.91767117, -1.25005425],\n",
       "       [ 1.12815215, -0.6351352 ,  2.91767117,  1.27334719]])"
      ]
     },
     "execution_count": 41,
     "metadata": {},
     "output_type": "execute_result"
    }
   ],
   "source": [
    "df_scaled"
   ]
  },
  {
   "cell_type": "code",
   "execution_count": 42,
   "id": "13ad6aca",
   "metadata": {},
   "outputs": [
    {
     "data": {
      "text/plain": [
       "Index(['CustomerID', 'Gender', 'Age', 'Annual Income (k$)',\n",
       "       'Spending Score (1-100)'],\n",
       "      dtype='object')"
      ]
     },
     "execution_count": 42,
     "metadata": {},
     "output_type": "execute_result"
    }
   ],
   "source": [
    "df.columns"
   ]
  },
  {
   "cell_type": "code",
   "execution_count": 43,
   "id": "8a3b1e7a",
   "metadata": {},
   "outputs": [
    {
     "data": {
      "text/html": [
       "<div>\n",
       "<style scoped>\n",
       "    .dataframe tbody tr th:only-of-type {\n",
       "        vertical-align: middle;\n",
       "    }\n",
       "\n",
       "    .dataframe tbody tr th {\n",
       "        vertical-align: top;\n",
       "    }\n",
       "\n",
       "    .dataframe thead th {\n",
       "        text-align: right;\n",
       "    }\n",
       "</style>\n",
       "<table border=\"1\" class=\"dataframe\">\n",
       "  <thead>\n",
       "    <tr style=\"text-align: right;\">\n",
       "      <th></th>\n",
       "      <th>Gender</th>\n",
       "      <th>Age</th>\n",
       "      <th>Annual Income (k$)</th>\n",
       "      <th>Spending Score (1-100)</th>\n",
       "    </tr>\n",
       "  </thead>\n",
       "  <tbody>\n",
       "    <tr>\n",
       "      <th>0</th>\n",
       "      <td>1.128152</td>\n",
       "      <td>-1.424569</td>\n",
       "      <td>-1.738999</td>\n",
       "      <td>-0.434801</td>\n",
       "    </tr>\n",
       "    <tr>\n",
       "      <th>1</th>\n",
       "      <td>1.128152</td>\n",
       "      <td>-1.281035</td>\n",
       "      <td>-1.738999</td>\n",
       "      <td>1.195704</td>\n",
       "    </tr>\n",
       "    <tr>\n",
       "      <th>2</th>\n",
       "      <td>-0.886405</td>\n",
       "      <td>-1.352802</td>\n",
       "      <td>-1.700830</td>\n",
       "      <td>-1.715913</td>\n",
       "    </tr>\n",
       "    <tr>\n",
       "      <th>3</th>\n",
       "      <td>-0.886405</td>\n",
       "      <td>-1.137502</td>\n",
       "      <td>-1.700830</td>\n",
       "      <td>1.040418</td>\n",
       "    </tr>\n",
       "    <tr>\n",
       "      <th>4</th>\n",
       "      <td>-0.886405</td>\n",
       "      <td>-0.563369</td>\n",
       "      <td>-1.662660</td>\n",
       "      <td>-0.395980</td>\n",
       "    </tr>\n",
       "    <tr>\n",
       "      <th>...</th>\n",
       "      <td>...</td>\n",
       "      <td>...</td>\n",
       "      <td>...</td>\n",
       "      <td>...</td>\n",
       "    </tr>\n",
       "    <tr>\n",
       "      <th>195</th>\n",
       "      <td>-0.886405</td>\n",
       "      <td>-0.276302</td>\n",
       "      <td>2.268791</td>\n",
       "      <td>1.118061</td>\n",
       "    </tr>\n",
       "    <tr>\n",
       "      <th>196</th>\n",
       "      <td>-0.886405</td>\n",
       "      <td>0.441365</td>\n",
       "      <td>2.497807</td>\n",
       "      <td>-0.861839</td>\n",
       "    </tr>\n",
       "    <tr>\n",
       "      <th>197</th>\n",
       "      <td>1.128152</td>\n",
       "      <td>-0.491602</td>\n",
       "      <td>2.497807</td>\n",
       "      <td>0.923953</td>\n",
       "    </tr>\n",
       "    <tr>\n",
       "      <th>198</th>\n",
       "      <td>1.128152</td>\n",
       "      <td>-0.491602</td>\n",
       "      <td>2.917671</td>\n",
       "      <td>-1.250054</td>\n",
       "    </tr>\n",
       "    <tr>\n",
       "      <th>199</th>\n",
       "      <td>1.128152</td>\n",
       "      <td>-0.635135</td>\n",
       "      <td>2.917671</td>\n",
       "      <td>1.273347</td>\n",
       "    </tr>\n",
       "  </tbody>\n",
       "</table>\n",
       "<p>200 rows × 4 columns</p>\n",
       "</div>"
      ],
      "text/plain": [
       "       Gender       Age  Annual Income (k$)  Spending Score (1-100)\n",
       "0    1.128152 -1.424569           -1.738999               -0.434801\n",
       "1    1.128152 -1.281035           -1.738999                1.195704\n",
       "2   -0.886405 -1.352802           -1.700830               -1.715913\n",
       "3   -0.886405 -1.137502           -1.700830                1.040418\n",
       "4   -0.886405 -0.563369           -1.662660               -0.395980\n",
       "..        ...       ...                 ...                     ...\n",
       "195 -0.886405 -0.276302            2.268791                1.118061\n",
       "196 -0.886405  0.441365            2.497807               -0.861839\n",
       "197  1.128152 -0.491602            2.497807                0.923953\n",
       "198  1.128152 -0.491602            2.917671               -1.250054\n",
       "199  1.128152 -0.635135            2.917671                1.273347\n",
       "\n",
       "[200 rows x 4 columns]"
      ]
     },
     "execution_count": 43,
     "metadata": {},
     "output_type": "execute_result"
    }
   ],
   "source": [
    "df_scaled_dataframe=pd.DataFrame(df_scaled,columns=['Gender', 'Age', 'Annual Income (k$)','Spending Score (1-100)'])\n",
    "df_scaled_dataframe"
   ]
  },
  {
   "cell_type": "code",
   "execution_count": 44,
   "id": "222dbe08",
   "metadata": {},
   "outputs": [],
   "source": [
    "df_scaled_dataframe.index=df['CustomerID'].values"
   ]
  },
  {
   "cell_type": "code",
   "execution_count": 45,
   "id": "4bc03526",
   "metadata": {},
   "outputs": [
    {
     "data": {
      "text/html": [
       "<div>\n",
       "<style scoped>\n",
       "    .dataframe tbody tr th:only-of-type {\n",
       "        vertical-align: middle;\n",
       "    }\n",
       "\n",
       "    .dataframe tbody tr th {\n",
       "        vertical-align: top;\n",
       "    }\n",
       "\n",
       "    .dataframe thead th {\n",
       "        text-align: right;\n",
       "    }\n",
       "</style>\n",
       "<table border=\"1\" class=\"dataframe\">\n",
       "  <thead>\n",
       "    <tr style=\"text-align: right;\">\n",
       "      <th></th>\n",
       "      <th>Gender</th>\n",
       "      <th>Age</th>\n",
       "      <th>Annual Income (k$)</th>\n",
       "      <th>Spending Score (1-100)</th>\n",
       "    </tr>\n",
       "  </thead>\n",
       "  <tbody>\n",
       "    <tr>\n",
       "      <th>1</th>\n",
       "      <td>1.128152</td>\n",
       "      <td>-1.424569</td>\n",
       "      <td>-1.738999</td>\n",
       "      <td>-0.434801</td>\n",
       "    </tr>\n",
       "    <tr>\n",
       "      <th>2</th>\n",
       "      <td>1.128152</td>\n",
       "      <td>-1.281035</td>\n",
       "      <td>-1.738999</td>\n",
       "      <td>1.195704</td>\n",
       "    </tr>\n",
       "    <tr>\n",
       "      <th>3</th>\n",
       "      <td>-0.886405</td>\n",
       "      <td>-1.352802</td>\n",
       "      <td>-1.700830</td>\n",
       "      <td>-1.715913</td>\n",
       "    </tr>\n",
       "    <tr>\n",
       "      <th>4</th>\n",
       "      <td>-0.886405</td>\n",
       "      <td>-1.137502</td>\n",
       "      <td>-1.700830</td>\n",
       "      <td>1.040418</td>\n",
       "    </tr>\n",
       "    <tr>\n",
       "      <th>5</th>\n",
       "      <td>-0.886405</td>\n",
       "      <td>-0.563369</td>\n",
       "      <td>-1.662660</td>\n",
       "      <td>-0.395980</td>\n",
       "    </tr>\n",
       "  </tbody>\n",
       "</table>\n",
       "</div>"
      ],
      "text/plain": [
       "     Gender       Age  Annual Income (k$)  Spending Score (1-100)\n",
       "1  1.128152 -1.424569           -1.738999               -0.434801\n",
       "2  1.128152 -1.281035           -1.738999                1.195704\n",
       "3 -0.886405 -1.352802           -1.700830               -1.715913\n",
       "4 -0.886405 -1.137502           -1.700830                1.040418\n",
       "5 -0.886405 -0.563369           -1.662660               -0.395980"
      ]
     },
     "execution_count": 45,
     "metadata": {},
     "output_type": "execute_result"
    }
   ],
   "source": [
    "df_scaled_dataframe.head()"
   ]
  },
  {
   "cell_type": "code",
   "execution_count": 46,
   "id": "af2533cd",
   "metadata": {},
   "outputs": [],
   "source": [
    "from sklearn.decomposition import PCA"
   ]
  },
  {
   "cell_type": "markdown",
   "id": "5116de64",
   "metadata": {},
   "source": [
    "# For dimension reduction"
   ]
  },
  {
   "cell_type": "code",
   "execution_count": 54,
   "id": "80cac7ef",
   "metadata": {},
   "outputs": [
    {
     "data": {
      "image/png": "[encoded data removed]",
      "text/plain": [
       "<Figure size 432x288 with 1 Axes>"
      ]
     },
     "metadata": {
      "needs_background": "light"
     },
     "output_type": "display_data"
    }
   ],
   "source": [
    "p = []\n",
    "\n",
    "for n in range(1,4):\n",
    "    pca = PCA(n_components=n)\n",
    "    pca.fit(df_scaled_dataframe)\n",
    "    \n",
    "    p.append(sum(pca.explained_variance_ratio_))\n",
    "    \n",
    "plt.plot(range(1,4),p)\n",
    "plt.grid()\n",
    "plt.xlim(1,4)\n",
    "plt.ylim(0,1)\n",
    "plt.xlabel(\"Number of Components\")\n",
    "plt.ylabel(\"Explained variance\");"
   ]
  },
  {
   "cell_type": "markdown",
   "id": "d6ba8ef8",
   "metadata": {},
   "source": [
    "# Here as we can see that three features are able to explain about 85 % of variance in the data we choose the same"
   ]
  },
  {
   "cell_type": "markdown",
   "id": "53d0b362",
   "metadata": {},
   "source": [
    "# Number of components"
   ]
  },
  {
   "cell_type": "code",
   "execution_count": 55,
   "id": "55451837",
   "metadata": {},
   "outputs": [
    {
     "data": {
      "text/plain": [
       "array([0.33690046, 0.26230645, 0.23260639])"
      ]
     },
     "execution_count": 55,
     "metadata": {},
     "output_type": "execute_result"
    }
   ],
   "source": [
    "pca=PCA(n_components=3)\n",
    "df_reduced=pca.fit_transform(df_scaled_dataframe)\n",
    "explained_variance=pca.explained_variance_ratio_\n",
    "explained_variance"
   ]
  },
  {
   "cell_type": "code",
   "execution_count": 56,
   "id": "c3b4ad8b",
   "metadata": {},
   "outputs": [
    {
     "data": {
      "text/plain": [
       "array([[-4.06382715e-01, -5.20713635e-01, -2.07252663e+00],\n",
       "       [-1.42767287e+00, -3.67310199e-01, -2.27764369e+00],\n",
       "       [ 5.07605706e-02, -1.89406774e+00, -3.67375232e-01],\n",
       "       [-1.69451310e+00, -1.63190805e+00, -7.17466691e-01],\n",
       "       [-3.13108383e-01, -1.81048272e+00, -4.26459924e-01],\n",
       "       [-1.71744627e+00, -1.59926418e+00, -6.96379423e-01],\n",
       "       [ 7.90821124e-01, -1.94727112e+00, -1.86491593e-01],\n",
       "       [-2.14832159e+00, -1.50537369e+00, -7.58463596e-01],\n",
       "       [ 2.77428623e+00, -8.82987672e-01, -1.38814112e+00],\n",
       "       [-1.21629477e+00, -1.61640464e+00, -5.55769702e-01],\n",
       "       [ 2.62905084e+00, -8.61237043e-01, -1.42011358e+00],\n",
       "       [-1.68947038e+00, -1.54542784e+00, -6.55007647e-01],\n",
       "       [ 1.68582253e+00, -2.02394479e+00,  1.69391673e-02],\n",
       "       [-1.64607339e+00, -1.52251259e+00, -6.10409943e-01],\n",
       "       [ 1.17443628e+00, -6.12790961e-01, -1.65373684e+00],\n",
       "       [-1.32613070e+00, -2.36719149e-01, -2.13541457e+00],\n",
       "       [ 1.67728253e-02, -1.74344572e+00, -2.66543893e-01],\n",
       "       [-1.07842454e+00, -2.44715641e-01, -2.05948662e+00],\n",
       "       [ 1.48758780e+00, -5.72676028e-01, -1.53311653e+00],\n",
       "       [-1.66373169e+00, -1.43259774e+00, -5.51432037e-01],\n",
       "       [ 4.88090311e-01, -3.92921145e-01, -1.68967309e+00],\n",
       "       [-1.01895051e+00, -1.66247511e-01, -1.97897968e+00],\n",
       "       [ 1.35891492e+00, -1.82866936e+00,  8.74035749e-02],\n",
       "       [-7.22972722e-01, -1.81687017e-01, -1.90171254e+00],\n",
       "       [ 1.51315931e+00, -1.76451196e+00,  1.83655917e-01],\n",
       "       [-1.06241157e+00, -4.31150614e-02, -1.89329142e+00],\n",
       "       [ 5.88832908e-01, -1.62541614e+00,  9.17212023e-03],\n",
       "       [-2.06188227e-01, -1.71906970e-01, -1.72925103e+00],\n",
       "       [ 3.68426440e-01, -1.56300645e+00, -4.87309804e-03],\n",
       "       [-1.96420414e+00, -1.21211990e+00, -4.51097239e-01],\n",
       "       [ 2.54759194e+00, -5.27913522e-01, -1.15832312e+00],\n",
       "       [-1.68983067e+00, -1.22412321e+00, -3.69867308e-01],\n",
       "       [ 2.20131721e+00, -3.88195647e-01, -1.14609975e+00],\n",
       "       [-1.87329695e+00,  2.24855270e-01, -1.92008355e+00],\n",
       "       [ 1.26515693e+00, -1.58125854e+00,  2.62582342e-01],\n",
       "       [-1.90386557e+00, -1.10444099e+00, -3.38577955e-01],\n",
       "       [ 8.39344590e-01, -1.48793867e+00,  2.09762947e-01],\n",
       "       [-1.24644437e+00, -1.17425940e+00, -1.92545586e-01],\n",
       "       [ 3.02432444e-01, -1.31960089e+00,  1.83051586e-01],\n",
       "       [-1.79415868e+00, -1.00420352e+00, -2.17275550e-01],\n",
       "       [ 1.49387594e+00, -1.47013252e+00,  4.14612670e-01],\n",
       "       [-1.57824777e+00,  3.26252676e-01, -1.74454279e+00],\n",
       "       [ 1.09972892e+00, -4.75148304e-02, -1.21226839e+00],\n",
       "       [-8.78229151e-01, -1.08373653e+00,  2.70337008e-03],\n",
       "       [ 8.90421740e-01, -1.34990772e+00,  3.35765014e-01],\n",
       "       [-1.33047664e+00, -1.01561907e+00, -7.99864154e-02],\n",
       "       [ 2.19540681e-01, -1.21995587e+00,  2.25962989e-01],\n",
       "       [-7.02592333e-01, -1.08085693e+00,  6.63670582e-02],\n",
       "       [-4.70519161e-01, -1.11577393e+00,  1.10443219e-01],\n",
       "       [-3.71782513e-01, -1.13065684e+00,  1.28009462e-01],\n",
       "       [ 2.49709965e-01, -1.16611641e+00,  2.82222631e-01],\n",
       "       [-2.81507713e-01,  2.47898317e-01, -1.39755760e+00],\n",
       "       [-6.92486630e-01, -9.94947343e-01,  1.38090881e-01],\n",
       "       [ 1.00183656e+00,  8.36296961e-02, -1.14462803e+00],\n",
       "       [ 4.85517270e-01, -1.17239636e+00,  3.52688043e-01],\n",
       "       [ 9.16095461e-01,  9.67976267e-02, -1.14928780e+00],\n",
       "       [ 4.01316916e-01, -1.13059450e+00,  3.59529655e-01],\n",
       "       [ 1.86862991e+00, -1.76710825e-02, -9.58000639e-01],\n",
       "       [-8.10654470e-01, -8.89574289e-01,  1.92569564e-01],\n",
       "       [ 1.07827242e+00,  1.59810666e-01, -1.04939377e+00],\n",
       "       [ 1.65086088e+00,  7.33740960e-02, -9.53100538e-01],\n",
       "       [-8.40256337e-01,  4.48881521e-01, -1.39573776e+00],\n",
       "       [ 1.13717903e+00, -1.15401647e+00,  5.63160854e-01],\n",
       "       [ 3.08719686e-01, -1.02922982e+00,  4.11866388e-01],\n",
       "       [ 1.43815483e+00,  1.63848653e-01, -9.38935659e-01],\n",
       "       [-9.96758186e-01,  5.30768704e-01, -1.37659200e+00],\n",
       "       [ 5.44171232e-03, -9.54225943e-01,  3.87538308e-01],\n",
       "       [ 1.29298442e+00, -1.14827597e+00,  6.17720316e-01],\n",
       "       [-9.47389862e-01,  5.23327249e-01, -1.36780888e+00],\n",
       "       [-4.57607937e-01, -8.84390383e-01,  3.06829920e-01],\n",
       "       [ 1.67683173e+00,  1.56994962e-01, -8.74093335e-01],\n",
       "       [ 4.16021294e-01, -9.86837080e-01,  4.89655069e-01],\n",
       "       [ 8.70906219e-01, -1.02631905e+00,  5.91290173e-01],\n",
       "       [ 6.84235085e-01, -9.98271327e-01,  5.54176289e-01],\n",
       "       [ 1.34595784e+00,  3.52842574e-01, -8.05449772e-01],\n",
       "       [-4.69867989e-01,  6.26458338e-01, -1.13240667e+00],\n",
       "       [ 2.27835275e-02, -7.81833032e-01,  5.36609041e-01],\n",
       "       [ 3.81292376e-01,  4.98237051e-01, -9.77631067e-01],\n",
       "       [-1.03665230e+00, -6.22127824e-01,  3.48682347e-01],\n",
       "       [ 5.13597177e-01, -8.55673851e-01,  6.30063345e-01],\n",
       "       [ 1.14055197e+00,  3.83752756e-01, -8.44223949e-01],\n",
       "       [ 9.58845944e-02,  5.41167687e-01, -1.03231119e+00],\n",
       "       [ 1.90090826e+00,  2.69270021e-01, -7.03372898e-01],\n",
       "       [ 3.12157595e-01, -8.25335848e-01,  5.93110013e-01],\n",
       "       [-1.26872547e+00, -5.87210823e-01,  3.04606187e-01],\n",
       "       [ 8.29573578e-01,  4.30691769e-01, -8.96762127e-01],\n",
       "       [ 3.82433784e-01, -7.48585816e-01,  6.71635560e-01],\n",
       "       [-1.16671899e+00, -5.15038230e-01,  3.97698495e-01],\n",
       "       [-7.07867782e-01, -5.55092382e-01,  5.01154445e-01],\n",
       "       [ 4.55367669e-01, -7.30251123e-01,  7.15912160e-01],\n",
       "       [ 1.10375960e+00, -7.98926738e-01,  8.50858905e-01],\n",
       "       [-5.19300383e-01,  7.79947493e-01, -1.01090383e+00],\n",
       "       [ 7.48178745e-01,  6.17967591e-01, -7.65257638e-01],\n",
       "       [ 1.21223952e-01, -6.21459016e-01,  7.09029657e-01],\n",
       "       [-3.27057250e-01, -5.53913735e-01,  6.28160716e-01],\n",
       "       [-5.16662945e-01,  8.08582982e-01, -9.91958508e-01],\n",
       "       [ 2.80131086e-01, -6.45501482e-01,  7.33397624e-01],\n",
       "       [-7.87237308e-01, -4.84651914e-01,  5.41829241e-01],\n",
       "       [ 9.34617726e-01,  6.19129095e-01, -7.03575347e-01],\n",
       "       [-6.34366480e-01,  8.55537580e-01, -9.86616638e-01],\n",
       "       [-7.45169167e-01, -4.32528995e-01,  6.03551418e-01],\n",
       "       [ 3.51736123e-01, -5.97959120e-01,  7.94798697e-01],\n",
       "       [ 1.41903955e+00,  5.75066566e-01, -6.02261347e-01],\n",
       "       [-4.98392518e-01,  8.64138980e-01, -9.41161402e-01],\n",
       "       [ 6.10411629e-01,  6.96992316e-01, -7.44451587e-01],\n",
       "       [-8.70573120e-01, -4.13639266e-01,  5.80683191e-01],\n",
       "       [ 1.13743087e+00, -6.87241003e-01,  9.58076206e-01],\n",
       "       [ 1.12369414e+00,  6.48926087e-01, -6.22947738e-01],\n",
       "       [ 1.89485259e+00,  5.32725254e-01, -4.84078084e-01],\n",
       "       [ 1.66277942e+00,  5.67642254e-01, -5.28154244e-01],\n",
       "       [ 1.50674188e+00,  5.91110981e-01, -5.58145300e-01],\n",
       "       [-1.28954958e+00, -3.21465312e-01,  5.24061553e-01],\n",
       "       [-3.17759179e-02, -4.81725557e-01,  7.79133073e-01],\n",
       "       [-6.04429349e-01,  9.38586267e-01, -9.05788589e-01],\n",
       "       [-1.17937838e+00, -2.79646307e-01,  5.96227146e-01],\n",
       "       [-1.18334467e+00, -2.79074127e-01,  5.94406300e-01],\n",
       "       [ 1.17553272e+00, -6.34545905e-01,  1.01797754e+00],\n",
       "       [ 5.76993109e-02, -4.66256439e-01,  8.10182100e-01],\n",
       "       [ 5.82648530e-01, -4.86829980e-01,  9.61716891e-01],\n",
       "       [ 1.59937938e-01, -4.23293075e-01,  8.78706001e-01],\n",
       "       [-4.76852264e-01,  1.00675048e+00, -8.14838230e-01],\n",
       "       [ 2.08622326e-02, -4.02111508e-01,  8.63442260e-01],\n",
       "       [-3.60876912e-01, -2.86453243e-01,  8.34709615e-01],\n",
       "       [-8.18252351e-01,  1.11611009e+00, -8.45873378e-01],\n",
       "       [-4.27018733e-01, -2.46936984e-01,  8.63722473e-01],\n",
       "       [-1.31210277e+00, -1.14141375e-01,  6.79492241e-01],\n",
       "       [ 8.72125709e-01,  9.20380930e-01, -4.64693005e-01],\n",
       "       [-8.76017553e-01,  1.18311437e+00, -8.09161376e-01],\n",
       "       [ 2.30203421e+00,  7.05154010e-01, -1.96915456e-01],\n",
       "       [-4.41408104e-01,  1.11786092e+00, -7.20687951e-01],\n",
       "       [ 1.76294893e+00,  7.86437844e-01, -2.91708949e-01],\n",
       "       [-3.92039780e-01,  1.11041946e+00, -7.11904829e-01],\n",
       "       [-4.62082916e-01, -1.83367350e-01,  9.03915612e-01],\n",
       "       [-1.15256325e+00, -7.97638257e-02,  7.60440955e-01],\n",
       "       [ 5.36209096e-01,  1.02974833e+00, -4.58508487e-01],\n",
       "       [-1.70487623e+00,  3.24442165e-02,  6.77309399e-01],\n",
       "       [ 1.19570032e+00, -4.03729862e-01,  1.23851688e+00],\n",
       "       [-6.84747745e-01,  1.21291448e+00, -7.13645901e-01],\n",
       "       [ 3.53272095e-01,  1.08643311e+00, -4.69233119e-01],\n",
       "       [-9.82221565e-01, -4.71043747e-02,  8.39408271e-01],\n",
       "       [ 1.89035883e+00, -4.50063966e-01,  1.41243825e+00],\n",
       "       [-1.21855815e+00,  1.35146929e+00, -7.70548756e-01],\n",
       "       [-4.74910385e-01, -6.48138980e-02,  9.96726703e-01],\n",
       "       [-1.53080042e+00,  9.37407158e-02,  7.82665968e-01],\n",
       "       [ 5.95450970e-01,  1.13742569e+00, -3.53433136e-01],\n",
       "       [-1.52316497e+00,  1.45568084e+00, -7.77752363e-01],\n",
       "       [ 1.09090711e+00,  1.06243584e+00, -2.78668940e-01],\n",
       "       [-1.18435761e+00,  7.08613124e-02,  8.76160159e-01],\n",
       "       [ 3.00846740e-01, -1.23166897e-01,  1.19399795e+00],\n",
       "       [-1.04051604e+00,  1.41219361e+00, -6.63371343e-01],\n",
       "       [ 1.35051212e+00,  1.05272281e+00, -1.97278457e-01],\n",
       "       [-7.40339814e-01,  1.36697269e+00, -6.08851768e-01],\n",
       "       [ 8.47864590e-01, -2.05595090e-01,  1.29243313e+00],\n",
       "       [-9.41714425e-01,  6.34354417e-02,  9.42823329e-01],\n",
       "       [ 1.10263878e+00, -2.43946728e-01,  1.33999043e+00],\n",
       "       [-1.83144095e+00,  1.97380086e-01,  7.77283206e-01],\n",
       "       [ 1.48097906e+00,  1.03326246e+00, -1.65145452e-01],\n",
       "       [-1.38999563e+00,  1.30980723e-01,  8.61954389e-01],\n",
       "       [ 1.33287409e+00,  1.05558682e+00, -1.91494817e-01],\n",
       "       [-1.25665910e+00,  1.10946634e-01,  8.88464306e-01],\n",
       "       [ 1.04004275e+00, -2.05581064e-01,  1.34286925e+00],\n",
       "       [-1.57293263e+00,  1.87665496e-01,  8.51229757e-01],\n",
       "       [ 4.84983547e-01,  1.27086361e+00, -2.70744355e-01],\n",
       "       [-1.74133333e+00,  2.71269219e-01,  8.64912979e-01],\n",
       "       [ 1.45445958e+00,  1.24115857e+00, -1.15356094e-02],\n",
       "       [-1.01540884e+00,  2.78776132e-01,  1.10253792e+00],\n",
       "       [ 1.21928466e+00,  1.30585854e+00, -2.54202755e-02],\n",
       "       [-1.69709206e+00,  4.10446083e-01,  9.94717288e-01],\n",
       "       [ 2.64157486e-01,  1.44867334e-01,  1.40616993e+00],\n",
       "       [-4.21324839e-01,  1.58177549e+00, -3.16668373e-01],\n",
       "       [ 1.30698699e+00,  1.32190295e+00,  1.86957719e-02],\n",
       "       [-9.38805793e-01,  1.65962313e+00, -4.15424661e-01],\n",
       "       [ 1.18951561e+00,  1.33964832e+00, -5.30764442e-04],\n",
       "       [-9.97203383e-01,  1.66820738e+00, -4.35293407e-01],\n",
       "       [ 1.42716078e+00, -1.08217936e-03,  1.64549606e+00],\n",
       "       [-1.60565560e+00,  4.55127547e-01,  1.06522259e+00],\n",
       "       [ 2.14205006e+00,  1.22517962e+00,  1.90756402e-01],\n",
       "       [-8.28402441e-01,  1.67223290e+00, -3.67827476e-01],\n",
       "       [ 2.21692493e+00,  1.35977748e+00,  3.27683540e-01],\n",
       "       [-9.94630016e-01,  1.84289057e+00, -2.86062122e-01],\n",
       "       [ 1.77867756e-01,  4.49552248e-01,  1.63412720e+00],\n",
       "       [-1.50900833e+00,  7.03127688e-01,  1.30390449e+00],\n",
       "       [ 1.54730865e+00,  1.60656936e+00,  3.31043008e-01],\n",
       "       [-1.71068006e+00,  7.62674919e-01,  1.29151957e+00],\n",
       "       [ 1.88205612e-01,  5.06252606e-01,  1.68128262e+00],\n",
       "       [-1.42953569e+00,  2.08340094e+00, -2.19681174e-01],\n",
       "       [ 1.22953909e+00,  4.07829870e-01,  1.92412977e+00],\n",
       "       [-7.55384802e-01,  2.04050460e+00, -3.43530844e-02],\n",
       "       [ 7.73957706e-01,  5.34939526e-01,  1.89619988e+00],\n",
       "       [-1.28626064e+00,  8.44610416e-01,  1.49174940e+00],\n",
       "       [ 2.68375609e-01,  6.11070624e-01,  1.80290613e+00],\n",
       "       [-1.05705706e+00,  8.10267154e-01,  1.54144865e+00],\n",
       "       [ 1.08870927e+00,  2.11339899e+00,  6.22502410e-01],\n",
       "       [-1.34984935e+00,  1.14586069e+00,  1.72318781e+00],\n",
       "       [ 1.09288835e+00,  9.82840852e-01,  2.37186351e+00],\n",
       "       [-1.17957174e+00,  1.32456784e+00,  1.93244109e+00],\n",
       "       [ 6.72751128e-01,  1.22106095e+00,  2.43808390e+00],\n",
       "       [-7.23719161e-01,  2.76501038e+00,  5.83177668e-01],\n",
       "       [ 7.67096226e-01,  2.86193009e+00,  1.15034121e+00],\n",
       "       [-1.06501524e+00,  3.13725616e+00,  7.88146046e-01]])"
      ]
     },
     "execution_count": 56,
     "metadata": {},
     "output_type": "execute_result"
    }
   ],
   "source": [
    "df_reduced"
   ]
  },
  {
   "cell_type": "code",
   "execution_count": 57,
   "id": "43dd52b2",
   "metadata": {},
   "outputs": [
    {
     "data": {
      "text/html": [
       "<div>\n",
       "<style scoped>\n",
       "    .dataframe tbody tr th:only-of-type {\n",
       "        vertical-align: middle;\n",
       "    }\n",
       "\n",
       "    .dataframe tbody tr th {\n",
       "        vertical-align: top;\n",
       "    }\n",
       "\n",
       "    .dataframe thead th {\n",
       "        text-align: right;\n",
       "    }\n",
       "</style>\n",
       "<table border=\"1\" class=\"dataframe\">\n",
       "  <thead>\n",
       "    <tr style=\"text-align: right;\">\n",
       "      <th></th>\n",
       "      <th>0</th>\n",
       "      <th>1</th>\n",
       "      <th>2</th>\n",
       "    </tr>\n",
       "  </thead>\n",
       "  <tbody>\n",
       "    <tr>\n",
       "      <th>0</th>\n",
       "      <td>-0.406383</td>\n",
       "      <td>-0.520714</td>\n",
       "      <td>-2.072527</td>\n",
       "    </tr>\n",
       "    <tr>\n",
       "      <th>1</th>\n",
       "      <td>-1.427673</td>\n",
       "      <td>-0.367310</td>\n",
       "      <td>-2.277644</td>\n",
       "    </tr>\n",
       "    <tr>\n",
       "      <th>2</th>\n",
       "      <td>0.050761</td>\n",
       "      <td>-1.894068</td>\n",
       "      <td>-0.367375</td>\n",
       "    </tr>\n",
       "    <tr>\n",
       "      <th>3</th>\n",
       "      <td>-1.694513</td>\n",
       "      <td>-1.631908</td>\n",
       "      <td>-0.717467</td>\n",
       "    </tr>\n",
       "    <tr>\n",
       "      <th>4</th>\n",
       "      <td>-0.313108</td>\n",
       "      <td>-1.810483</td>\n",
       "      <td>-0.426460</td>\n",
       "    </tr>\n",
       "    <tr>\n",
       "      <th>...</th>\n",
       "      <td>...</td>\n",
       "      <td>...</td>\n",
       "      <td>...</td>\n",
       "    </tr>\n",
       "    <tr>\n",
       "      <th>195</th>\n",
       "      <td>-1.179572</td>\n",
       "      <td>1.324568</td>\n",
       "      <td>1.932441</td>\n",
       "    </tr>\n",
       "    <tr>\n",
       "      <th>196</th>\n",
       "      <td>0.672751</td>\n",
       "      <td>1.221061</td>\n",
       "      <td>2.438084</td>\n",
       "    </tr>\n",
       "    <tr>\n",
       "      <th>197</th>\n",
       "      <td>-0.723719</td>\n",
       "      <td>2.765010</td>\n",
       "      <td>0.583178</td>\n",
       "    </tr>\n",
       "    <tr>\n",
       "      <th>198</th>\n",
       "      <td>0.767096</td>\n",
       "      <td>2.861930</td>\n",
       "      <td>1.150341</td>\n",
       "    </tr>\n",
       "    <tr>\n",
       "      <th>199</th>\n",
       "      <td>-1.065015</td>\n",
       "      <td>3.137256</td>\n",
       "      <td>0.788146</td>\n",
       "    </tr>\n",
       "  </tbody>\n",
       "</table>\n",
       "<p>200 rows × 3 columns</p>\n",
       "</div>"
      ],
      "text/plain": [
       "            0         1         2\n",
       "0   -0.406383 -0.520714 -2.072527\n",
       "1   -1.427673 -0.367310 -2.277644\n",
       "2    0.050761 -1.894068 -0.367375\n",
       "3   -1.694513 -1.631908 -0.717467\n",
       "4   -0.313108 -1.810483 -0.426460\n",
       "..        ...       ...       ...\n",
       "195 -1.179572  1.324568  1.932441\n",
       "196  0.672751  1.221061  2.438084\n",
       "197 -0.723719  2.765010  0.583178\n",
       "198  0.767096  2.861930  1.150341\n",
       "199 -1.065015  3.137256  0.788146\n",
       "\n",
       "[200 rows x 3 columns]"
      ]
     },
     "execution_count": 57,
     "metadata": {},
     "output_type": "execute_result"
    }
   ],
   "source": [
    "df_red_data=pd.DataFrame(df_reduced)\n",
    "df_red_data"
   ]
  },
  {
   "cell_type": "markdown",
   "id": "b7fd4f96",
   "metadata": {},
   "source": [
    "# without reduced performing the kmeans "
   ]
  },
  {
   "cell_type": "code",
   "execution_count": 58,
   "id": "904ce9d6",
   "metadata": {},
   "outputs": [],
   "source": [
    "from sklearn.cluster import KMeans"
   ]
  },
  {
   "cell_type": "code",
   "execution_count": 59,
   "id": "49c7e630",
   "metadata": {},
   "outputs": [
    {
     "data": {
      "image/png": "[encoded data removed]",
      "text/plain": [
       "<Figure size 1080x360 with 1 Axes>"
      ]
     },
     "metadata": {
      "needs_background": "light"
     },
     "output_type": "display_data"
    }
   ],
   "source": [
    "wcss = []\n",
    "for k in range(2, 10):\n",
    "    kmeans = KMeans(n_clusters=k)\n",
    "    kmeans.fit(df_scaled)\n",
    "    wcss.append(kmeans.inertia_)\n",
    "\n",
    "fig = plt.figure(figsize=(15, 5))\n",
    "plt.plot(range(2, 10), wcss)\n",
    "plt.grid(True)\n",
    "plt.xlabel('K')\n",
    "plt.ylabel('wcss')\n",
    "plt.title('Elbow curve');"
   ]
  },
  {
   "cell_type": "code",
   "execution_count": 60,
   "id": "727c13ad",
   "metadata": {},
   "outputs": [
    {
     "data": {
      "text/plain": [
       "0           NaN\n",
       "1   -112.015122\n",
       "2    -90.072769\n",
       "3    -59.301591\n",
       "4    -52.421408\n",
       "5    -38.199461\n",
       "6    -36.960066\n",
       "7    -25.681029\n",
       "dtype: float64"
      ]
     },
     "execution_count": 60,
     "metadata": {},
     "output_type": "execute_result"
    }
   ],
   "source": [
    "pd.Series(wcss).diff()"
   ]
  },
  {
   "cell_type": "markdown",
   "id": "afde63e8",
   "metadata": {},
   "source": [
    "# Here our criterian is basically the drop in within cluster sum of squared that we obtain with increasing values of n_clusters as we see taht after 5 there is no significant drop we choose n_clusters=5"
   ]
  },
  {
   "cell_type": "code",
   "execution_count": 63,
   "id": "165cc21d",
   "metadata": {},
   "outputs": [],
   "source": [
    "k_without_reduced_1=KMeans(n_clusters=5)\n",
    "y_pred_reduced=k_without_reduced_1.fit_predict(df_scaled)"
   ]
  },
  {
   "cell_type": "code",
   "execution_count": 61,
   "id": "489c19f0",
   "metadata": {},
   "outputs": [
    {
     "data": {
      "text/plain": [
       "array([[ 1.12815215, -1.42456879, -1.73899919, -0.43480148],\n",
       "       [ 1.12815215, -1.28103541, -1.73899919,  1.19570407],\n",
       "       [-0.88640526, -1.3528021 , -1.70082976, -1.71591298],\n",
       "       [-0.88640526, -1.13750203, -1.70082976,  1.04041783],\n",
       "       [-0.88640526, -0.56336851, -1.66266033, -0.39597992],\n",
       "       [-0.88640526, -1.20926872, -1.66266033,  1.00159627],\n",
       "       [-0.88640526, -0.27630176, -1.62449091, -1.71591298],\n",
       "       [-0.88640526, -1.13750203, -1.62449091,  1.70038436],\n",
       "       [ 1.12815215,  1.80493225, -1.58632148, -1.83237767],\n",
       "       [-0.88640526, -0.6351352 , -1.58632148,  0.84631002],\n",
       "       [ 1.12815215,  2.02023231, -1.58632148, -1.4053405 ],\n",
       "       [-0.88640526, -0.27630176, -1.58632148,  1.89449216],\n",
       "       [-0.88640526,  1.37433211, -1.54815205, -1.36651894],\n",
       "       [-0.88640526, -1.06573534, -1.54815205,  1.04041783],\n",
       "       [ 1.12815215, -0.13276838, -1.54815205, -1.44416206],\n",
       "       [ 1.12815215, -1.20926872, -1.54815205,  1.11806095],\n",
       "       [-0.88640526, -0.27630176, -1.50998262, -0.59008772],\n",
       "       [ 1.12815215, -1.3528021 , -1.50998262,  0.61338066],\n",
       "       [ 1.12815215,  0.94373197, -1.43364376, -0.82301709],\n",
       "       [-0.88640526, -0.27630176, -1.43364376,  1.8556706 ],\n",
       "       [ 1.12815215, -0.27630176, -1.39547433, -0.59008772],\n",
       "       [ 1.12815215, -0.99396865, -1.39547433,  0.88513158],\n",
       "       [-0.88640526,  0.51313183, -1.3573049 , -1.75473454],\n",
       "       [ 1.12815215, -0.56336851, -1.3573049 ,  0.88513158],\n",
       "       [-0.88640526,  1.08726535, -1.24279661, -1.4053405 ],\n",
       "       [ 1.12815215, -0.70690189, -1.24279661,  1.23452563],\n",
       "       [-0.88640526,  0.44136514, -1.24279661, -0.7065524 ],\n",
       "       [ 1.12815215, -0.27630176, -1.24279661,  0.41927286],\n",
       "       [-0.88640526,  0.08253169, -1.20462718, -0.74537397],\n",
       "       [-0.88640526, -1.13750203, -1.20462718,  1.42863343],\n",
       "       [ 1.12815215,  1.51786549, -1.16645776, -1.7935561 ],\n",
       "       [-0.88640526, -1.28103541, -1.16645776,  0.88513158],\n",
       "       [ 1.12815215,  1.01549866, -1.05194947, -1.7935561 ],\n",
       "       [ 1.12815215, -1.49633548, -1.05194947,  1.62274124],\n",
       "       [-0.88640526,  0.7284319 , -1.05194947, -1.4053405 ],\n",
       "       [-0.88640526, -1.28103541, -1.05194947,  1.19570407],\n",
       "       [-0.88640526,  0.22606507, -1.01378004, -1.28887582],\n",
       "       [-0.88640526, -0.6351352 , -1.01378004,  0.88513158],\n",
       "       [-0.88640526, -0.20453507, -0.89927175, -0.93948177],\n",
       "       [-0.88640526, -1.3528021 , -0.89927175,  0.96277471],\n",
       "       [-0.88640526,  1.87669894, -0.86110232, -0.59008772],\n",
       "       [ 1.12815215, -1.06573534, -0.86110232,  1.62274124],\n",
       "       [ 1.12815215,  0.65666521, -0.82293289, -0.55126616],\n",
       "       [-0.88640526, -0.56336851, -0.82293289,  0.41927286],\n",
       "       [-0.88640526,  0.7284319 , -0.82293289, -0.86183865],\n",
       "       [-0.88640526, -1.06573534, -0.82293289,  0.5745591 ],\n",
       "       [-0.88640526,  0.80019859, -0.78476346,  0.18634349],\n",
       "       [-0.88640526, -0.85043527, -0.78476346, -0.12422899],\n",
       "       [-0.88640526, -0.70690189, -0.78476346, -0.3183368 ],\n",
       "       [-0.88640526, -0.56336851, -0.78476346, -0.3183368 ],\n",
       "       [-0.88640526,  0.7284319 , -0.70842461,  0.06987881],\n",
       "       [ 1.12815215, -0.41983513, -0.70842461,  0.38045129],\n",
       "       [-0.88640526, -0.56336851, -0.67025518,  0.14752193],\n",
       "       [ 1.12815215,  1.4460988 , -0.67025518,  0.38045129],\n",
       "       [-0.88640526,  0.80019859, -0.67025518, -0.20187212],\n",
       "       [ 1.12815215,  0.58489852, -0.67025518, -0.35715836],\n",
       "       [-0.88640526,  0.87196528, -0.63208575, -0.00776431],\n",
       "       [ 1.12815215,  2.16376569, -0.63208575, -0.16305055],\n",
       "       [-0.88640526, -0.85043527, -0.55574689,  0.03105725],\n",
       "       [ 1.12815215,  1.01549866, -0.55574689, -0.16305055],\n",
       "       [ 1.12815215,  2.23553238, -0.55574689,  0.22516505],\n",
       "       [ 1.12815215, -1.42456879, -0.55574689,  0.18634349],\n",
       "       [-0.88640526,  2.02023231, -0.51757746,  0.06987881],\n",
       "       [-0.88640526,  1.08726535, -0.51757746,  0.34162973],\n",
       "       [ 1.12815215,  1.73316556, -0.47940803,  0.03105725],\n",
       "       [ 1.12815215, -1.49633548, -0.47940803,  0.34162973],\n",
       "       [-0.88640526,  0.29783176, -0.47940803, -0.00776431],\n",
       "       [-0.88640526,  2.091999  , -0.47940803, -0.08540743],\n",
       "       [ 1.12815215, -1.42456879, -0.47940803,  0.34162973],\n",
       "       [-0.88640526, -0.49160182, -0.47940803, -0.12422899],\n",
       "       [ 1.12815215,  2.23553238, -0.4412386 ,  0.18634349],\n",
       "       [-0.88640526,  0.58489852, -0.4412386 , -0.3183368 ],\n",
       "       [-0.88640526,  1.51786549, -0.40306917, -0.04658587],\n",
       "       [-0.88640526,  1.51786549, -0.40306917,  0.22516505],\n",
       "       [ 1.12815215,  1.4460988 , -0.25039146, -0.12422899],\n",
       "       [ 1.12815215, -0.92220196, -0.25039146,  0.14752193],\n",
       "       [-0.88640526,  0.44136514, -0.25039146,  0.10870037],\n",
       "       [ 1.12815215,  0.08253169, -0.25039146, -0.08540743],\n",
       "       [-0.88640526, -1.13750203, -0.25039146,  0.06987881],\n",
       "       [-0.88640526,  0.7284319 , -0.25039146, -0.3183368 ],\n",
       "       [ 1.12815215,  1.30256542, -0.25039146,  0.03105725],\n",
       "       [ 1.12815215, -0.06100169, -0.25039146,  0.18634349],\n",
       "       [ 1.12815215,  2.02023231, -0.25039146, -0.35715836],\n",
       "       [-0.88640526,  0.51313183, -0.25039146, -0.24069368],\n",
       "       [-0.88640526, -1.28103541, -0.25039146,  0.26398661],\n",
       "       [ 1.12815215,  0.65666521, -0.25039146, -0.16305055],\n",
       "       [-0.88640526,  1.15903204, -0.13588317,  0.30280817],\n",
       "       [-0.88640526, -1.20926872, -0.13588317,  0.18634349],\n",
       "       [-0.88640526, -0.34806844, -0.09771374,  0.38045129],\n",
       "       [-0.88640526,  0.80019859, -0.09771374, -0.16305055],\n",
       "       [-0.88640526,  2.091999  , -0.05954431,  0.18634349],\n",
       "       [ 1.12815215, -1.49633548, -0.05954431, -0.35715836],\n",
       "       [ 1.12815215,  0.65666521, -0.02137488, -0.04658587],\n",
       "       [-0.88640526,  0.08253169, -0.02137488, -0.39597992],\n",
       "       [-0.88640526, -0.49160182, -0.02137488, -0.3183368 ],\n",
       "       [ 1.12815215, -1.06573534, -0.02137488,  0.06987881],\n",
       "       [-0.88640526,  0.58489852, -0.02137488, -0.12422899],\n",
       "       [-0.88640526, -0.85043527, -0.02137488, -0.00776431],\n",
       "       [ 1.12815215,  0.65666521,  0.01679455, -0.3183368 ],\n",
       "       [ 1.12815215, -1.3528021 ,  0.01679455, -0.04658587],\n",
       "       [-0.88640526, -1.13750203,  0.05496398, -0.35715836],\n",
       "       [-0.88640526,  0.7284319 ,  0.05496398, -0.08540743],\n",
       "       [ 1.12815215,  2.02023231,  0.05496398,  0.34162973],\n",
       "       [ 1.12815215, -0.92220196,  0.05496398,  0.18634349],\n",
       "       [ 1.12815215,  0.7284319 ,  0.05496398,  0.22516505],\n",
       "       [-0.88640526, -1.28103541,  0.05496398, -0.3183368 ],\n",
       "       [-0.88640526,  1.94846562,  0.09313341, -0.00776431],\n",
       "       [ 1.12815215,  1.08726535,  0.09313341, -0.16305055],\n",
       "       [ 1.12815215,  2.091999  ,  0.09313341, -0.27951524],\n",
       "       [ 1.12815215,  1.94846562,  0.09313341, -0.08540743],\n",
       "       [ 1.12815215,  1.87669894,  0.09313341,  0.06987881],\n",
       "       [-0.88640526, -1.42456879,  0.09313341,  0.14752193],\n",
       "       [-0.88640526, -0.06100169,  0.13130284, -0.3183368 ],\n",
       "       [ 1.12815215, -1.42456879,  0.13130284, -0.16305055],\n",
       "       [-0.88640526, -1.49633548,  0.16947227, -0.08540743],\n",
       "       [-0.88640526, -1.42456879,  0.16947227, -0.00776431],\n",
       "       [-0.88640526,  1.73316556,  0.16947227, -0.27951524],\n",
       "       [-0.88640526,  0.7284319 ,  0.16947227,  0.34162973],\n",
       "       [-0.88640526,  0.87196528,  0.24581112, -0.27951524],\n",
       "       [-0.88640526,  0.80019859,  0.24581112,  0.26398661],\n",
       "       [ 1.12815215, -0.85043527,  0.24581112,  0.22516505],\n",
       "       [-0.88640526, -0.06100169,  0.24581112, -0.39597992],\n",
       "       [-0.88640526,  0.08253169,  0.32214998,  0.30280817],\n",
       "       [ 1.12815215,  0.010765  ,  0.32214998,  1.58391968],\n",
       "       [-0.88640526, -1.13750203,  0.36031941, -0.82301709],\n",
       "       [-0.88640526, -0.56336851,  0.36031941,  1.04041783],\n",
       "       [ 1.12815215,  0.29783176,  0.39848884, -0.59008772],\n",
       "       [ 1.12815215,  0.08253169,  0.39848884,  1.73920592],\n",
       "       [ 1.12815215,  1.4460988 ,  0.39848884, -1.52180518],\n",
       "       [ 1.12815215, -0.06100169,  0.39848884,  0.96277471],\n",
       "       [ 1.12815215,  0.58489852,  0.39848884, -1.5994483 ],\n",
       "       [ 1.12815215,  0.010765  ,  0.39848884,  0.96277471],\n",
       "       [-0.88640526, -0.99396865,  0.43665827, -0.62890928],\n",
       "       [-0.88640526, -0.56336851,  0.43665827,  0.80748846],\n",
       "       [ 1.12815215, -1.3528021 ,  0.4748277 , -1.75473454],\n",
       "       [-0.88640526, -0.70690189,  0.4748277 ,  1.46745499],\n",
       "       [-0.88640526,  0.36959845,  0.4748277 , -1.67709142],\n",
       "       [ 1.12815215, -0.49160182,  0.4748277 ,  0.88513158],\n",
       "       [ 1.12815215, -1.42456879,  0.51299713, -1.56062674],\n",
       "       [-0.88640526, -0.27630176,  0.51299713,  0.84631002],\n",
       "       [-0.88640526,  1.30256542,  0.55116656, -1.75473454],\n",
       "       [ 1.12815215, -0.49160182,  0.55116656,  1.6615628 ],\n",
       "       [-0.88640526, -0.77866858,  0.58933599, -0.39597992],\n",
       "       [-0.88640526, -0.49160182,  0.58933599,  1.42863343],\n",
       "       [ 1.12815215, -0.99396865,  0.62750542, -1.48298362],\n",
       "       [ 1.12815215, -0.77866858,  0.62750542,  1.81684904],\n",
       "       [ 1.12815215,  0.65666521,  0.62750542, -0.55126616],\n",
       "       [-0.88640526, -0.49160182,  0.62750542,  0.92395314],\n",
       "       [-0.88640526, -0.34806844,  0.66567484, -1.09476801],\n",
       "       [ 1.12815215, -0.34806844,  0.66567484,  1.54509812],\n",
       "       [ 1.12815215,  0.29783176,  0.66567484, -1.28887582],\n",
       "       [ 1.12815215,  0.010765  ,  0.66567484,  1.46745499],\n",
       "       [-0.88640526,  0.36959845,  0.66567484, -1.17241113],\n",
       "       [-0.88640526, -0.06100169,  0.66567484,  1.00159627],\n",
       "       [-0.88640526,  0.58489852,  0.66567484, -1.32769738],\n",
       "       [-0.88640526, -0.85043527,  0.66567484,  1.50627656],\n",
       "       [ 1.12815215, -0.13276838,  0.66567484, -1.91002079],\n",
       "       [-0.88640526, -0.6351352 ,  0.66567484,  1.07923939],\n",
       "       [ 1.12815215, -0.34806844,  0.66567484, -1.91002079],\n",
       "       [-0.88640526, -0.6351352 ,  0.66567484,  0.88513158],\n",
       "       [-0.88640526,  1.23079873,  0.70384427, -0.59008772],\n",
       "       [-0.88640526, -0.70690189,  0.70384427,  1.27334719],\n",
       "       [ 1.12815215, -1.42456879,  0.78018313, -1.75473454],\n",
       "       [-0.88640526, -0.56336851,  0.78018313,  1.6615628 ],\n",
       "       [ 1.12815215,  0.80019859,  0.93286085, -0.93948177],\n",
       "       [-0.88640526, -0.20453507,  0.93286085,  0.96277471],\n",
       "       [ 1.12815215,  0.22606507,  0.97103028, -1.17241113],\n",
       "       [-0.88640526, -0.41983513,  0.97103028,  1.73920592],\n",
       "       [-0.88640526, -0.20453507,  1.00919971, -0.90066021],\n",
       "       [ 1.12815215, -0.49160182,  1.00919971,  0.49691598],\n",
       "       [ 1.12815215,  0.08253169,  1.00919971, -1.44416206],\n",
       "       [ 1.12815215, -0.77866858,  1.00919971,  0.96277471],\n",
       "       [ 1.12815215, -0.20453507,  1.00919971, -1.56062674],\n",
       "       [ 1.12815215, -0.20453507,  1.00919971,  1.62274124],\n",
       "       [-0.88640526,  0.94373197,  1.04736914, -1.44416206],\n",
       "       [-0.88640526, -0.6351352 ,  1.04736914,  1.38981187],\n",
       "       [ 1.12815215,  1.37433211,  1.04736914, -1.36651894],\n",
       "       [ 1.12815215, -0.85043527,  1.04736914,  0.72984534],\n",
       "       [ 1.12815215,  1.4460988 ,  1.23821628, -1.4053405 ],\n",
       "       [ 1.12815215, -0.27630176,  1.23821628,  1.54509812],\n",
       "       [-0.88640526, -0.13276838,  1.390894  , -0.7065524 ],\n",
       "       [-0.88640526, -0.49160182,  1.390894  ,  1.38981187],\n",
       "       [ 1.12815215,  0.51313183,  1.42906343, -1.36651894],\n",
       "       [-0.88640526, -0.70690189,  1.42906343,  1.46745499],\n",
       "       [-0.88640526,  0.15429838,  1.46723286, -0.43480148],\n",
       "       [ 1.12815215, -0.6351352 ,  1.46723286,  1.81684904],\n",
       "       [-0.88640526,  1.08726535,  1.54357172, -1.01712489],\n",
       "       [ 1.12815215, -0.77866858,  1.54357172,  0.69102378],\n",
       "       [-0.88640526,  0.15429838,  1.61991057, -1.28887582],\n",
       "       [-0.88640526, -0.20453507,  1.61991057,  1.35099031],\n",
       "       [-0.88640526, -0.34806844,  1.61991057, -1.05594645],\n",
       "       [-0.88640526, -0.49160182,  1.61991057,  0.72984534],\n",
       "       [ 1.12815215, -0.41983513,  2.00160487, -1.63826986],\n",
       "       [-0.88640526, -0.06100169,  2.00160487,  1.58391968],\n",
       "       [-0.88640526,  0.58489852,  2.26879087, -1.32769738],\n",
       "       [-0.88640526, -0.27630176,  2.26879087,  1.11806095],\n",
       "       [-0.88640526,  0.44136514,  2.49780745, -0.86183865],\n",
       "       [ 1.12815215, -0.49160182,  2.49780745,  0.92395314],\n",
       "       [ 1.12815215, -0.49160182,  2.91767117, -1.25005425],\n",
       "       [ 1.12815215, -0.6351352 ,  2.91767117,  1.27334719]])"
      ]
     },
     "execution_count": 61,
     "metadata": {},
     "output_type": "execute_result"
    }
   ],
   "source": [
    "df_scaled"
   ]
  },
  {
   "cell_type": "code",
   "execution_count": 62,
   "id": "fb45830e",
   "metadata": {},
   "outputs": [
    {
     "data": {
      "text/html": [
       "<div>\n",
       "<style scoped>\n",
       "    .dataframe tbody tr th:only-of-type {\n",
       "        vertical-align: middle;\n",
       "    }\n",
       "\n",
       "    .dataframe tbody tr th {\n",
       "        vertical-align: top;\n",
       "    }\n",
       "\n",
       "    .dataframe thead th {\n",
       "        text-align: right;\n",
       "    }\n",
       "</style>\n",
       "<table border=\"1\" class=\"dataframe\">\n",
       "  <thead>\n",
       "    <tr style=\"text-align: right;\">\n",
       "      <th></th>\n",
       "      <th>Gender</th>\n",
       "      <th>Age</th>\n",
       "      <th>Annual Income (k$)</th>\n",
       "      <th>Spending Score (1-100)</th>\n",
       "    </tr>\n",
       "  </thead>\n",
       "  <tbody>\n",
       "    <tr>\n",
       "      <th>1</th>\n",
       "      <td>1.128152</td>\n",
       "      <td>-1.424569</td>\n",
       "      <td>-1.738999</td>\n",
       "      <td>-0.434801</td>\n",
       "    </tr>\n",
       "    <tr>\n",
       "      <th>2</th>\n",
       "      <td>1.128152</td>\n",
       "      <td>-1.281035</td>\n",
       "      <td>-1.738999</td>\n",
       "      <td>1.195704</td>\n",
       "    </tr>\n",
       "    <tr>\n",
       "      <th>3</th>\n",
       "      <td>-0.886405</td>\n",
       "      <td>-1.352802</td>\n",
       "      <td>-1.700830</td>\n",
       "      <td>-1.715913</td>\n",
       "    </tr>\n",
       "    <tr>\n",
       "      <th>4</th>\n",
       "      <td>-0.886405</td>\n",
       "      <td>-1.137502</td>\n",
       "      <td>-1.700830</td>\n",
       "      <td>1.040418</td>\n",
       "    </tr>\n",
       "    <tr>\n",
       "      <th>5</th>\n",
       "      <td>-0.886405</td>\n",
       "      <td>-0.563369</td>\n",
       "      <td>-1.662660</td>\n",
       "      <td>-0.395980</td>\n",
       "    </tr>\n",
       "    <tr>\n",
       "      <th>...</th>\n",
       "      <td>...</td>\n",
       "      <td>...</td>\n",
       "      <td>...</td>\n",
       "      <td>...</td>\n",
       "    </tr>\n",
       "    <tr>\n",
       "      <th>196</th>\n",
       "      <td>-0.886405</td>\n",
       "      <td>-0.276302</td>\n",
       "      <td>2.268791</td>\n",
       "      <td>1.118061</td>\n",
       "    </tr>\n",
       "    <tr>\n",
       "      <th>197</th>\n",
       "      <td>-0.886405</td>\n",
       "      <td>0.441365</td>\n",
       "      <td>2.497807</td>\n",
       "      <td>-0.861839</td>\n",
       "    </tr>\n",
       "    <tr>\n",
       "      <th>198</th>\n",
       "      <td>1.128152</td>\n",
       "      <td>-0.491602</td>\n",
       "      <td>2.497807</td>\n",
       "      <td>0.923953</td>\n",
       "    </tr>\n",
       "    <tr>\n",
       "      <th>199</th>\n",
       "      <td>1.128152</td>\n",
       "      <td>-0.491602</td>\n",
       "      <td>2.917671</td>\n",
       "      <td>-1.250054</td>\n",
       "    </tr>\n",
       "    <tr>\n",
       "      <th>200</th>\n",
       "      <td>1.128152</td>\n",
       "      <td>-0.635135</td>\n",
       "      <td>2.917671</td>\n",
       "      <td>1.273347</td>\n",
       "    </tr>\n",
       "  </tbody>\n",
       "</table>\n",
       "<p>200 rows × 4 columns</p>\n",
       "</div>"
      ],
      "text/plain": [
       "       Gender       Age  Annual Income (k$)  Spending Score (1-100)\n",
       "1    1.128152 -1.424569           -1.738999               -0.434801\n",
       "2    1.128152 -1.281035           -1.738999                1.195704\n",
       "3   -0.886405 -1.352802           -1.700830               -1.715913\n",
       "4   -0.886405 -1.137502           -1.700830                1.040418\n",
       "5   -0.886405 -0.563369           -1.662660               -0.395980\n",
       "..        ...       ...                 ...                     ...\n",
       "196 -0.886405 -0.276302            2.268791                1.118061\n",
       "197 -0.886405  0.441365            2.497807               -0.861839\n",
       "198  1.128152 -0.491602            2.497807                0.923953\n",
       "199  1.128152 -0.491602            2.917671               -1.250054\n",
       "200  1.128152 -0.635135            2.917671                1.273347\n",
       "\n",
       "[200 rows x 4 columns]"
      ]
     },
     "execution_count": 62,
     "metadata": {},
     "output_type": "execute_result"
    }
   ],
   "source": [
    "df_scaled_dataframe"
   ]
  },
  {
   "cell_type": "code",
   "execution_count": 65,
   "id": "8a76d6df",
   "metadata": {},
   "outputs": [
    {
     "data": {
      "text/plain": [
       "array([0, 1, 2, 3, 4])"
      ]
     },
     "execution_count": 65,
     "metadata": {},
     "output_type": "execute_result"
    }
   ],
   "source": [
    "import numpy as np\n",
    "np.unique(y_pred_reduced)"
   ]
  },
  {
   "cell_type": "code",
   "execution_count": 66,
   "id": "829eed92",
   "metadata": {},
   "outputs": [
    {
     "data": {
      "text/plain": [
       "(200,)"
      ]
     },
     "execution_count": 66,
     "metadata": {},
     "output_type": "execute_result"
    }
   ],
   "source": [
    "y_pred_reduced.shape"
   ]
  },
  {
   "cell_type": "code",
   "execution_count": 67,
   "id": "d4a6f12e",
   "metadata": {},
   "outputs": [],
   "source": [
    "from sklearn.metrics import silhouette_score"
   ]
  },
  {
   "cell_type": "code",
   "execution_count": 68,
   "id": "4c146dff",
   "metadata": {},
   "outputs": [
    {
     "data": {
      "text/plain": [
       "0.31606517761091896"
      ]
     },
     "execution_count": 68,
     "metadata": {},
     "output_type": "execute_result"
    }
   ],
   "source": [
    "silhouette_score(df_scaled,y_pred_reduced)"
   ]
  },
  {
   "cell_type": "markdown",
   "id": "09f490a9",
   "metadata": {},
   "source": [
    "# Silhouette score in this case is 0.316"
   ]
  },
  {
   "cell_type": "code",
   "execution_count": 69,
   "id": "6e23eabc",
   "metadata": {},
   "outputs": [],
   "source": [
    "df_scaled_dataframe_1=df_scaled_dataframe.copy()"
   ]
  },
  {
   "cell_type": "code",
   "execution_count": 70,
   "id": "65162604",
   "metadata": {},
   "outputs": [],
   "source": [
    "df_scaled_dataframe_1['cluster_label']=y_pred_reduced"
   ]
  },
  {
   "cell_type": "code",
   "execution_count": 71,
   "id": "5d00c0e1",
   "metadata": {},
   "outputs": [
    {
     "data": {
      "text/html": [
       "<div>\n",
       "<style scoped>\n",
       "    .dataframe tbody tr th:only-of-type {\n",
       "        vertical-align: middle;\n",
       "    }\n",
       "\n",
       "    .dataframe tbody tr th {\n",
       "        vertical-align: top;\n",
       "    }\n",
       "\n",
       "    .dataframe thead th {\n",
       "        text-align: right;\n",
       "    }\n",
       "</style>\n",
       "<table border=\"1\" class=\"dataframe\">\n",
       "  <thead>\n",
       "    <tr style=\"text-align: right;\">\n",
       "      <th></th>\n",
       "      <th>Gender</th>\n",
       "      <th>Age</th>\n",
       "      <th>Annual Income (k$)</th>\n",
       "      <th>Spending Score (1-100)</th>\n",
       "      <th>cluster_label</th>\n",
       "    </tr>\n",
       "  </thead>\n",
       "  <tbody>\n",
       "    <tr>\n",
       "      <th>1</th>\n",
       "      <td>1.128152</td>\n",
       "      <td>-1.424569</td>\n",
       "      <td>-1.738999</td>\n",
       "      <td>-0.434801</td>\n",
       "      <td>1</td>\n",
       "    </tr>\n",
       "    <tr>\n",
       "      <th>2</th>\n",
       "      <td>1.128152</td>\n",
       "      <td>-1.281035</td>\n",
       "      <td>-1.738999</td>\n",
       "      <td>1.195704</td>\n",
       "      <td>1</td>\n",
       "    </tr>\n",
       "    <tr>\n",
       "      <th>3</th>\n",
       "      <td>-0.886405</td>\n",
       "      <td>-1.352802</td>\n",
       "      <td>-1.700830</td>\n",
       "      <td>-1.715913</td>\n",
       "      <td>0</td>\n",
       "    </tr>\n",
       "    <tr>\n",
       "      <th>4</th>\n",
       "      <td>-0.886405</td>\n",
       "      <td>-1.137502</td>\n",
       "      <td>-1.700830</td>\n",
       "      <td>1.040418</td>\n",
       "      <td>3</td>\n",
       "    </tr>\n",
       "    <tr>\n",
       "      <th>5</th>\n",
       "      <td>-0.886405</td>\n",
       "      <td>-0.563369</td>\n",
       "      <td>-1.662660</td>\n",
       "      <td>-0.395980</td>\n",
       "      <td>0</td>\n",
       "    </tr>\n",
       "    <tr>\n",
       "      <th>...</th>\n",
       "      <td>...</td>\n",
       "      <td>...</td>\n",
       "      <td>...</td>\n",
       "      <td>...</td>\n",
       "      <td>...</td>\n",
       "    </tr>\n",
       "    <tr>\n",
       "      <th>196</th>\n",
       "      <td>-0.886405</td>\n",
       "      <td>-0.276302</td>\n",
       "      <td>2.268791</td>\n",
       "      <td>1.118061</td>\n",
       "      <td>3</td>\n",
       "    </tr>\n",
       "    <tr>\n",
       "      <th>197</th>\n",
       "      <td>-0.886405</td>\n",
       "      <td>0.441365</td>\n",
       "      <td>2.497807</td>\n",
       "      <td>-0.861839</td>\n",
       "      <td>4</td>\n",
       "    </tr>\n",
       "    <tr>\n",
       "      <th>198</th>\n",
       "      <td>1.128152</td>\n",
       "      <td>-0.491602</td>\n",
       "      <td>2.497807</td>\n",
       "      <td>0.923953</td>\n",
       "      <td>1</td>\n",
       "    </tr>\n",
       "    <tr>\n",
       "      <th>199</th>\n",
       "      <td>1.128152</td>\n",
       "      <td>-0.491602</td>\n",
       "      <td>2.917671</td>\n",
       "      <td>-1.250054</td>\n",
       "      <td>4</td>\n",
       "    </tr>\n",
       "    <tr>\n",
       "      <th>200</th>\n",
       "      <td>1.128152</td>\n",
       "      <td>-0.635135</td>\n",
       "      <td>2.917671</td>\n",
       "      <td>1.273347</td>\n",
       "      <td>1</td>\n",
       "    </tr>\n",
       "  </tbody>\n",
       "</table>\n",
       "<p>200 rows × 5 columns</p>\n",
       "</div>"
      ],
      "text/plain": [
       "       Gender       Age  Annual Income (k$)  Spending Score (1-100)  \\\n",
       "1    1.128152 -1.424569           -1.738999               -0.434801   \n",
       "2    1.128152 -1.281035           -1.738999                1.195704   \n",
       "3   -0.886405 -1.352802           -1.700830               -1.715913   \n",
       "4   -0.886405 -1.137502           -1.700830                1.040418   \n",
       "5   -0.886405 -0.563369           -1.662660               -0.395980   \n",
       "..        ...       ...                 ...                     ...   \n",
       "196 -0.886405 -0.276302            2.268791                1.118061   \n",
       "197 -0.886405  0.441365            2.497807               -0.861839   \n",
       "198  1.128152 -0.491602            2.497807                0.923953   \n",
       "199  1.128152 -0.491602            2.917671               -1.250054   \n",
       "200  1.128152 -0.635135            2.917671                1.273347   \n",
       "\n",
       "     cluster_label  \n",
       "1                1  \n",
       "2                1  \n",
       "3                0  \n",
       "4                3  \n",
       "5                0  \n",
       "..             ...  \n",
       "196              3  \n",
       "197              4  \n",
       "198              1  \n",
       "199              4  \n",
       "200              1  \n",
       "\n",
       "[200 rows x 5 columns]"
      ]
     },
     "execution_count": 71,
     "metadata": {},
     "output_type": "execute_result"
    }
   ],
   "source": [
    "df_scaled_dataframe_1"
   ]
  },
  {
   "cell_type": "markdown",
   "id": "351c862a",
   "metadata": {},
   "source": [
    "# Plotting scatter plot between two features annual income and spending scores"
   ]
  },
  {
   "cell_type": "code",
   "execution_count": 180,
   "id": "3f0126bb",
   "metadata": {},
   "outputs": [
    {
     "data": {
      "text/plain": [
       "<matplotlib.legend.Legend at 0x2887fba2c70>"
      ]
     },
     "execution_count": 180,
     "metadata": {},
     "output_type": "execute_result"
    },
    {
     "data": {
      "image/png": "[encoded data removed]",
      "text/plain": [
       "<Figure size 432x288 with 1 Axes>"
      ]
     },
     "metadata": {
      "needs_background": "light"
     },
     "output_type": "display_data"
    }
   ],
   "source": [
    "sns.scatterplot(data=df_scaled_dataframe_1,x='Annual Income (k$)',y='Spending Score (1-100)',hue='cluster_label',palette='Set1')\n",
    "plt.legend(bbox_to_anchor=[1.05,1],labels=['Target','Sensible','Target','Standard','Target','Careful'])"
   ]
  },
  {
   "cell_type": "markdown",
   "id": "13d09ee6",
   "metadata": {},
   "source": [
    "# with reduced performing k means"
   ]
  },
  {
   "cell_type": "code",
   "execution_count": 74,
   "id": "462495aa",
   "metadata": {},
   "outputs": [
    {
     "data": {
      "image/png": "[encoded data removed]",
      "text/plain": [
       "<Figure size 1080x360 with 1 Axes>"
      ]
     },
     "metadata": {
      "needs_background": "light"
     },
     "output_type": "display_data"
    }
   ],
   "source": [
    "wcss_1 = []\n",
    "for k in range(2, 10):\n",
    "    kmeans = KMeans(n_clusters=k)\n",
    "    kmeans.fit(df_reduced)\n",
    "    wcss_1.append(kmeans.inertia_)\n",
    "\n",
    "fig = plt.figure(figsize=(15, 5))\n",
    "plt.plot(range(2, 10), wcss_1)\n",
    "plt.grid(True)\n",
    "plt.xlabel('K')\n",
    "plt.ylabel('wcss')\n",
    "plt.title('Elbow curve');"
   ]
  },
  {
   "cell_type": "code",
   "execution_count": 75,
   "id": "5faedb7d",
   "metadata": {},
   "outputs": [
    {
     "data": {
      "text/plain": [
       "0           NaN\n",
       "1   -111.315806\n",
       "2    -90.350037\n",
       "3    -44.326901\n",
       "4    -33.282468\n",
       "5    -31.342150\n",
       "6    -23.961971\n",
       "7    -13.693873\n",
       "dtype: float64"
      ]
     },
     "execution_count": 75,
     "metadata": {},
     "output_type": "execute_result"
    }
   ],
   "source": [
    "pd.Series(wcss_1).diff()"
   ]
  },
  {
   "cell_type": "markdown",
   "id": "d1fc86b7",
   "metadata": {},
   "source": [
    "# Using the same chossing n_clusters=4"
   ]
  },
  {
   "cell_type": "code",
   "execution_count": 181,
   "id": "1249b749",
   "metadata": {},
   "outputs": [],
   "source": [
    "k_with_reduced_1=KMeans(n_clusters=4)\n",
    "y_pred_reduced=k_with_reduced_1.fit_predict(df_reduced)"
   ]
  },
  {
   "cell_type": "code",
   "execution_count": 182,
   "id": "823a880f",
   "metadata": {},
   "outputs": [
    {
     "data": {
      "text/plain": [
       "array([2, 2, 0, 1, 0, 1, 0, 1, 3, 1, 3, 1, 0, 1, 3, 2, 0, 2, 3, 1, 3, 2,\n",
       "       0, 2, 0, 2, 0, 2, 0, 1, 3, 1, 3, 2, 0, 1, 0, 1, 0, 1, 0, 2, 3, 1,\n",
       "       0, 1, 0, 1, 1, 1, 0, 2, 1, 3, 0, 3, 0, 3, 1, 3, 3, 2, 0, 0, 3, 2,\n",
       "       0, 0, 2, 1, 3, 0, 0, 0, 3, 2, 0, 3, 1, 0, 3, 2, 3, 0, 1, 3, 0, 1,\n",
       "       1, 0, 0, 2, 3, 0, 1, 2, 0, 1, 3, 2, 1, 0, 3, 2, 3, 1, 0, 3, 3, 3,\n",
       "       3, 1, 0, 2, 1, 1, 0, 0, 0, 0, 2, 0, 1, 2, 1, 1, 3, 2, 3, 2, 3, 2,\n",
       "       1, 1, 3, 1, 0, 2, 3, 1, 0, 2, 1, 1, 3, 2, 3, 1, 0, 2, 3, 2, 0, 1,\n",
       "       0, 1, 3, 1, 3, 1, 0, 1, 3, 1, 3, 1, 3, 1, 0, 2, 3, 2, 3, 2, 0, 1,\n",
       "       3, 2, 3, 2, 0, 1, 3, 1, 0, 2, 0, 2, 0, 1, 0, 1, 3, 1, 0, 1, 0, 2,\n",
       "       3, 2])"
      ]
     },
     "execution_count": 182,
     "metadata": {},
     "output_type": "execute_result"
    }
   ],
   "source": [
    "y_pred_reduced"
   ]
  },
  {
   "cell_type": "code",
   "execution_count": 183,
   "id": "81b76ded",
   "metadata": {},
   "outputs": [
    {
     "data": {
      "text/plain": [
       "0.39453092943542983"
      ]
     },
     "execution_count": 183,
     "metadata": {},
     "output_type": "execute_result"
    }
   ],
   "source": [
    "silhouette_score(df_reduced,y_pred_reduced)"
   ]
  },
  {
   "cell_type": "markdown",
   "id": "8763a08c",
   "metadata": {},
   "source": [
    "# Silhouette score is 0.394"
   ]
  },
  {
   "cell_type": "code",
   "execution_count": 79,
   "id": "23718ecb",
   "metadata": {},
   "outputs": [
    {
     "data": {
      "text/html": [
       "<div>\n",
       "<style scoped>\n",
       "    .dataframe tbody tr th:only-of-type {\n",
       "        vertical-align: middle;\n",
       "    }\n",
       "\n",
       "    .dataframe tbody tr th {\n",
       "        vertical-align: top;\n",
       "    }\n",
       "\n",
       "    .dataframe thead th {\n",
       "        text-align: right;\n",
       "    }\n",
       "</style>\n",
       "<table border=\"1\" class=\"dataframe\">\n",
       "  <thead>\n",
       "    <tr style=\"text-align: right;\">\n",
       "      <th></th>\n",
       "      <th>0</th>\n",
       "      <th>1</th>\n",
       "      <th>2</th>\n",
       "    </tr>\n",
       "  </thead>\n",
       "  <tbody>\n",
       "    <tr>\n",
       "      <th>0</th>\n",
       "      <td>-0.406383</td>\n",
       "      <td>-0.520714</td>\n",
       "      <td>-2.072527</td>\n",
       "    </tr>\n",
       "    <tr>\n",
       "      <th>1</th>\n",
       "      <td>-1.427673</td>\n",
       "      <td>-0.367310</td>\n",
       "      <td>-2.277644</td>\n",
       "    </tr>\n",
       "    <tr>\n",
       "      <th>2</th>\n",
       "      <td>0.050761</td>\n",
       "      <td>-1.894068</td>\n",
       "      <td>-0.367375</td>\n",
       "    </tr>\n",
       "    <tr>\n",
       "      <th>3</th>\n",
       "      <td>-1.694513</td>\n",
       "      <td>-1.631908</td>\n",
       "      <td>-0.717467</td>\n",
       "    </tr>\n",
       "    <tr>\n",
       "      <th>4</th>\n",
       "      <td>-0.313108</td>\n",
       "      <td>-1.810483</td>\n",
       "      <td>-0.426460</td>\n",
       "    </tr>\n",
       "    <tr>\n",
       "      <th>...</th>\n",
       "      <td>...</td>\n",
       "      <td>...</td>\n",
       "      <td>...</td>\n",
       "    </tr>\n",
       "    <tr>\n",
       "      <th>195</th>\n",
       "      <td>-1.179572</td>\n",
       "      <td>1.324568</td>\n",
       "      <td>1.932441</td>\n",
       "    </tr>\n",
       "    <tr>\n",
       "      <th>196</th>\n",
       "      <td>0.672751</td>\n",
       "      <td>1.221061</td>\n",
       "      <td>2.438084</td>\n",
       "    </tr>\n",
       "    <tr>\n",
       "      <th>197</th>\n",
       "      <td>-0.723719</td>\n",
       "      <td>2.765010</td>\n",
       "      <td>0.583178</td>\n",
       "    </tr>\n",
       "    <tr>\n",
       "      <th>198</th>\n",
       "      <td>0.767096</td>\n",
       "      <td>2.861930</td>\n",
       "      <td>1.150341</td>\n",
       "    </tr>\n",
       "    <tr>\n",
       "      <th>199</th>\n",
       "      <td>-1.065015</td>\n",
       "      <td>3.137256</td>\n",
       "      <td>0.788146</td>\n",
       "    </tr>\n",
       "  </tbody>\n",
       "</table>\n",
       "<p>200 rows × 3 columns</p>\n",
       "</div>"
      ],
      "text/plain": [
       "            0         1         2\n",
       "0   -0.406383 -0.520714 -2.072527\n",
       "1   -1.427673 -0.367310 -2.277644\n",
       "2    0.050761 -1.894068 -0.367375\n",
       "3   -1.694513 -1.631908 -0.717467\n",
       "4   -0.313108 -1.810483 -0.426460\n",
       "..        ...       ...       ...\n",
       "195 -1.179572  1.324568  1.932441\n",
       "196  0.672751  1.221061  2.438084\n",
       "197 -0.723719  2.765010  0.583178\n",
       "198  0.767096  2.861930  1.150341\n",
       "199 -1.065015  3.137256  0.788146\n",
       "\n",
       "[200 rows x 3 columns]"
      ]
     },
     "execution_count": 79,
     "metadata": {},
     "output_type": "execute_result"
    }
   ],
   "source": [
    "df_red_data"
   ]
  },
  {
   "cell_type": "code",
   "execution_count": 80,
   "id": "181d1ea0",
   "metadata": {},
   "outputs": [
    {
     "data": {
      "text/plain": [
       "<AxesSubplot:xlabel='1', ylabel='2'>"
      ]
     },
     "execution_count": 80,
     "metadata": {},
     "output_type": "execute_result"
    },
    {
     "data": {
      "image/png": "[encoded data removed]",
      "text/plain": [
       "<Figure size 432x288 with 1 Axes>"
      ]
     },
     "metadata": {
      "needs_background": "light"
     },
     "output_type": "display_data"
    }
   ],
   "source": [
    "sns.scatterplot(data=df_red_data,x=1,y=2,hue='')"
   ]
  },
  {
   "cell_type": "code",
   "execution_count": 187,
   "id": "02eefad6",
   "metadata": {},
   "outputs": [
    {
     "data": {
      "text/plain": [
       "<matplotlib.legend.Legend at 0x2887fdb5610>"
      ]
     },
     "execution_count": 187,
     "metadata": {},
     "output_type": "execute_result"
    },
    {
     "data": {
      "image/png": "[encoded data removed]",
      "text/plain": [
       "<Figure size 432x288 with 1 Axes>"
      ]
     },
     "metadata": {
      "needs_background": "light"
     },
     "output_type": "display_data"
    }
   ],
   "source": [
    "sns.scatterplot(x=df_red_data[1],y=df_red_data[2],hue=y_pred_reduced,palette='Set1')\n",
    "plt.xlabel('Reduced dimension 1')\n",
    "plt.ylabel('Reduced dimension 2')\n",
    "plt.legend(bbox_to_anchor=[2,1])"
   ]
  },
  {
   "cell_type": "markdown",
   "id": "7545594f",
   "metadata": {},
   "source": [
    "# As we can clearly se we can group the customers in the clusters very well"
   ]
  },
  {
   "cell_type": "code",
   "execution_count": null,
   "id": "04a26b92",
   "metadata": {},
   "outputs": [],
   "source": []
  },
  {
   "cell_type": "markdown",
   "id": "4a89bb51",
   "metadata": {},
   "source": [
    "# agglomerative clustering"
   ]
  },
  {
   "cell_type": "code",
   "execution_count": 84,
   "id": "3343159b",
   "metadata": {},
   "outputs": [
    {
     "data": {
      "text/html": [
       "<div>\n",
       "<style scoped>\n",
       "    .dataframe tbody tr th:only-of-type {\n",
       "        vertical-align: middle;\n",
       "    }\n",
       "\n",
       "    .dataframe tbody tr th {\n",
       "        vertical-align: top;\n",
       "    }\n",
       "\n",
       "    .dataframe thead th {\n",
       "        text-align: right;\n",
       "    }\n",
       "</style>\n",
       "<table border=\"1\" class=\"dataframe\">\n",
       "  <thead>\n",
       "    <tr style=\"text-align: right;\">\n",
       "      <th></th>\n",
       "      <th>Gender</th>\n",
       "      <th>Age</th>\n",
       "      <th>Annual Income (k$)</th>\n",
       "      <th>Spending Score (1-100)</th>\n",
       "    </tr>\n",
       "  </thead>\n",
       "  <tbody>\n",
       "    <tr>\n",
       "      <th>1</th>\n",
       "      <td>1.128152</td>\n",
       "      <td>-1.424569</td>\n",
       "      <td>-1.738999</td>\n",
       "      <td>-0.434801</td>\n",
       "    </tr>\n",
       "    <tr>\n",
       "      <th>2</th>\n",
       "      <td>1.128152</td>\n",
       "      <td>-1.281035</td>\n",
       "      <td>-1.738999</td>\n",
       "      <td>1.195704</td>\n",
       "    </tr>\n",
       "    <tr>\n",
       "      <th>3</th>\n",
       "      <td>-0.886405</td>\n",
       "      <td>-1.352802</td>\n",
       "      <td>-1.700830</td>\n",
       "      <td>-1.715913</td>\n",
       "    </tr>\n",
       "    <tr>\n",
       "      <th>4</th>\n",
       "      <td>-0.886405</td>\n",
       "      <td>-1.137502</td>\n",
       "      <td>-1.700830</td>\n",
       "      <td>1.040418</td>\n",
       "    </tr>\n",
       "    <tr>\n",
       "      <th>5</th>\n",
       "      <td>-0.886405</td>\n",
       "      <td>-0.563369</td>\n",
       "      <td>-1.662660</td>\n",
       "      <td>-0.395980</td>\n",
       "    </tr>\n",
       "    <tr>\n",
       "      <th>...</th>\n",
       "      <td>...</td>\n",
       "      <td>...</td>\n",
       "      <td>...</td>\n",
       "      <td>...</td>\n",
       "    </tr>\n",
       "    <tr>\n",
       "      <th>196</th>\n",
       "      <td>-0.886405</td>\n",
       "      <td>-0.276302</td>\n",
       "      <td>2.268791</td>\n",
       "      <td>1.118061</td>\n",
       "    </tr>\n",
       "    <tr>\n",
       "      <th>197</th>\n",
       "      <td>-0.886405</td>\n",
       "      <td>0.441365</td>\n",
       "      <td>2.497807</td>\n",
       "      <td>-0.861839</td>\n",
       "    </tr>\n",
       "    <tr>\n",
       "      <th>198</th>\n",
       "      <td>1.128152</td>\n",
       "      <td>-0.491602</td>\n",
       "      <td>2.497807</td>\n",
       "      <td>0.923953</td>\n",
       "    </tr>\n",
       "    <tr>\n",
       "      <th>199</th>\n",
       "      <td>1.128152</td>\n",
       "      <td>-0.491602</td>\n",
       "      <td>2.917671</td>\n",
       "      <td>-1.250054</td>\n",
       "    </tr>\n",
       "    <tr>\n",
       "      <th>200</th>\n",
       "      <td>1.128152</td>\n",
       "      <td>-0.635135</td>\n",
       "      <td>2.917671</td>\n",
       "      <td>1.273347</td>\n",
       "    </tr>\n",
       "  </tbody>\n",
       "</table>\n",
       "<p>200 rows × 4 columns</p>\n",
       "</div>"
      ],
      "text/plain": [
       "       Gender       Age  Annual Income (k$)  Spending Score (1-100)\n",
       "1    1.128152 -1.424569           -1.738999               -0.434801\n",
       "2    1.128152 -1.281035           -1.738999                1.195704\n",
       "3   -0.886405 -1.352802           -1.700830               -1.715913\n",
       "4   -0.886405 -1.137502           -1.700830                1.040418\n",
       "5   -0.886405 -0.563369           -1.662660               -0.395980\n",
       "..        ...       ...                 ...                     ...\n",
       "196 -0.886405 -0.276302            2.268791                1.118061\n",
       "197 -0.886405  0.441365            2.497807               -0.861839\n",
       "198  1.128152 -0.491602            2.497807                0.923953\n",
       "199  1.128152 -0.491602            2.917671               -1.250054\n",
       "200  1.128152 -0.635135            2.917671                1.273347\n",
       "\n",
       "[200 rows x 4 columns]"
      ]
     },
     "execution_count": 84,
     "metadata": {},
     "output_type": "execute_result"
    }
   ],
   "source": [
    "df_scaled_dataframe"
   ]
  },
  {
   "cell_type": "markdown",
   "id": "828c0b44",
   "metadata": {},
   "source": [
    "#  without reduced"
   ]
  },
  {
   "cell_type": "code",
   "execution_count": 91,
   "id": "acffa079",
   "metadata": {},
   "outputs": [
    {
     "data": {
      "image/png": "[encoded data removed]",
      "text/plain": [
       "<Figure size 2160x720 with 1 Axes>"
      ]
     },
     "metadata": {
      "needs_background": "light"
     },
     "output_type": "display_data"
    }
   ],
   "source": [
    "import scipy.cluster.hierarchy as sch\n",
    "plt.figure(figsize=(30, 10))\n",
    "dendrogrm = sch.dendrogram(sch.linkage(df_scaled, method = 'ward'),labels=df_scaled_dataframe.index)\n",
    "plt.axhline(y=12.5, color='r', linestyle='--')\n",
    "ax = plt.gca()\n",
    "ax.tick_params(axis='x', which='major', labelsize=10)\n",
    "plt.title('Dendrogram',fontsize=30)\n",
    "\n",
    "plt.ylabel('Euclidean distance', fontsize=20)\n",
    "plt.show()"
   ]
  },
  {
   "cell_type": "markdown",
   "id": "d99e5348",
   "metadata": {},
   "source": [
    "# Taking the number of clusters as 4"
   ]
  },
  {
   "cell_type": "code",
   "execution_count": 88,
   "id": "04a309a5",
   "metadata": {},
   "outputs": [],
   "source": [
    "from sklearn.cluster import AgglomerativeClustering\n",
    "hc = AgglomerativeClustering(n_clusters = 4, affinity = 'euclidean', linkage = 'ward')\n",
    "y_hc = hc.fit_predict(df_scaled)"
   ]
  },
  {
   "cell_type": "code",
   "execution_count": 89,
   "id": "c8f128ca",
   "metadata": {},
   "outputs": [
    {
     "data": {
      "text/plain": [
       "array([1, 1, 0, 1, 0, 1, 0, 1, 0, 1, 0, 1, 0, 1, 1, 1, 0, 1, 0, 1, 1, 1,\n",
       "       0, 1, 0, 1, 0, 1, 0, 1, 0, 1, 0, 1, 0, 1, 0, 1, 0, 1, 0, 1, 0, 1,\n",
       "       0, 1, 0, 1, 1, 1, 0, 1, 1, 0, 0, 0, 0, 0, 1, 0, 0, 1, 0, 0, 0, 1,\n",
       "       0, 0, 1, 1, 0, 0, 0, 0, 0, 1, 0, 0, 1, 0, 0, 0, 0, 0, 1, 0, 0, 1,\n",
       "       1, 0, 0, 1, 0, 1, 1, 1, 0, 1, 0, 1, 1, 0, 0, 1, 0, 1, 0, 0, 0, 0,\n",
       "       0, 1, 1, 1, 1, 1, 0, 0, 0, 0, 1, 1, 1, 3, 1, 3, 0, 3, 2, 3, 2, 3,\n",
       "       1, 3, 2, 3, 2, 3, 2, 3, 2, 3, 1, 3, 2, 3, 0, 3, 2, 3, 2, 3, 2, 3,\n",
       "       2, 3, 2, 3, 2, 3, 2, 3, 2, 3, 2, 3, 2, 3, 2, 3, 2, 3, 2, 3, 2, 3,\n",
       "       2, 3, 2, 3, 2, 3, 2, 3, 2, 3, 2, 3, 2, 3, 2, 3, 2, 3, 2, 3, 2, 3,\n",
       "       2, 3], dtype=int64)"
      ]
     },
     "execution_count": 89,
     "metadata": {},
     "output_type": "execute_result"
    }
   ],
   "source": [
    "y_hc"
   ]
  },
  {
   "cell_type": "code",
   "execution_count": 90,
   "id": "23e5d00c",
   "metadata": {},
   "outputs": [
    {
     "data": {
      "text/plain": [
       "0.2632260518820244"
      ]
     },
     "execution_count": 90,
     "metadata": {},
     "output_type": "execute_result"
    }
   ],
   "source": [
    "silhouette_score(df_scaled,y_hc)"
   ]
  },
  {
   "cell_type": "code",
   "execution_count": 92,
   "id": "a00be1f1",
   "metadata": {},
   "outputs": [
    {
     "data": {
      "text/plain": [
       "Index(['CustomerID', 'Gender', 'Age', 'Annual Income (k$)',\n",
       "       'Spending Score (1-100)'],\n",
       "      dtype='object')"
      ]
     },
     "execution_count": 92,
     "metadata": {},
     "output_type": "execute_result"
    }
   ],
   "source": [
    "df.columns"
   ]
  },
  {
   "cell_type": "markdown",
   "id": "d8e69b5a",
   "metadata": {},
   "source": [
    "# In the below scatter pot we can cluster the customers"
   ]
  },
  {
   "cell_type": "code",
   "execution_count": 194,
   "id": "77a528ad",
   "metadata": {},
   "outputs": [
    {
     "data": {
      "text/plain": [
       "<matplotlib.legend.Legend at 0x288013ba700>"
      ]
     },
     "execution_count": 194,
     "metadata": {},
     "output_type": "execute_result"
    },
    {
     "data": {
      "image/png": "[encoded data removed]",
      "text/plain": [
       "<Figure size 432x288 with 1 Axes>"
      ]
     },
     "metadata": {
      "needs_background": "light"
     },
     "output_type": "display_data"
    }
   ],
   "source": [
    "sns.scatterplot(x=df['Annual Income (k$)'],y=df['Spending Score (1-100)'],hue=y_hc,palette='Set1')\n",
    "plt.legend(bbox_to_anchor=[1.05,1],labels=['Careless','Sensible','Careless','Carefull','Target'])"
   ]
  },
  {
   "cell_type": "markdown",
   "id": "6236c134",
   "metadata": {},
   "source": [
    "# Customers with less income and less spending scores as sensible,less income and high spending scores as careless,high income low spending scores carefull, high income high spending scores as Target"
   ]
  },
  {
   "cell_type": "code",
   "execution_count": 97,
   "id": "cd2f81c3",
   "metadata": {},
   "outputs": [
    {
     "data": {
      "text/plain": [
       "array([[-4.06382715e-01, -5.20713635e-01, -2.07252663e+00],\n",
       "       [-1.42767287e+00, -3.67310199e-01, -2.27764369e+00],\n",
       "       [ 5.07605706e-02, -1.89406774e+00, -3.67375232e-01],\n",
       "       [-1.69451310e+00, -1.63190805e+00, -7.17466691e-01],\n",
       "       [-3.13108383e-01, -1.81048272e+00, -4.26459924e-01],\n",
       "       [-1.71744627e+00, -1.59926418e+00, -6.96379423e-01],\n",
       "       [ 7.90821124e-01, -1.94727112e+00, -1.86491593e-01],\n",
       "       [-2.14832159e+00, -1.50537369e+00, -7.58463596e-01],\n",
       "       [ 2.77428623e+00, -8.82987672e-01, -1.38814112e+00],\n",
       "       [-1.21629477e+00, -1.61640464e+00, -5.55769702e-01],\n",
       "       [ 2.62905084e+00, -8.61237043e-01, -1.42011358e+00],\n",
       "       [-1.68947038e+00, -1.54542784e+00, -6.55007647e-01],\n",
       "       [ 1.68582253e+00, -2.02394479e+00,  1.69391673e-02],\n",
       "       [-1.64607339e+00, -1.52251259e+00, -6.10409943e-01],\n",
       "       [ 1.17443628e+00, -6.12790961e-01, -1.65373684e+00],\n",
       "       [-1.32613070e+00, -2.36719149e-01, -2.13541457e+00],\n",
       "       [ 1.67728253e-02, -1.74344572e+00, -2.66543893e-01],\n",
       "       [-1.07842454e+00, -2.44715641e-01, -2.05948662e+00],\n",
       "       [ 1.48758780e+00, -5.72676028e-01, -1.53311653e+00],\n",
       "       [-1.66373169e+00, -1.43259774e+00, -5.51432037e-01],\n",
       "       [ 4.88090311e-01, -3.92921145e-01, -1.68967309e+00],\n",
       "       [-1.01895051e+00, -1.66247511e-01, -1.97897968e+00],\n",
       "       [ 1.35891492e+00, -1.82866936e+00,  8.74035749e-02],\n",
       "       [-7.22972722e-01, -1.81687017e-01, -1.90171254e+00],\n",
       "       [ 1.51315931e+00, -1.76451196e+00,  1.83655917e-01],\n",
       "       [-1.06241157e+00, -4.31150614e-02, -1.89329142e+00],\n",
       "       [ 5.88832908e-01, -1.62541614e+00,  9.17212023e-03],\n",
       "       [-2.06188227e-01, -1.71906970e-01, -1.72925103e+00],\n",
       "       [ 3.68426440e-01, -1.56300645e+00, -4.87309804e-03],\n",
       "       [-1.96420414e+00, -1.21211990e+00, -4.51097239e-01],\n",
       "       [ 2.54759194e+00, -5.27913522e-01, -1.15832312e+00],\n",
       "       [-1.68983067e+00, -1.22412321e+00, -3.69867308e-01],\n",
       "       [ 2.20131721e+00, -3.88195647e-01, -1.14609975e+00],\n",
       "       [-1.87329695e+00,  2.24855270e-01, -1.92008355e+00],\n",
       "       [ 1.26515693e+00, -1.58125854e+00,  2.62582342e-01],\n",
       "       [-1.90386557e+00, -1.10444099e+00, -3.38577955e-01],\n",
       "       [ 8.39344590e-01, -1.48793867e+00,  2.09762947e-01],\n",
       "       [-1.24644437e+00, -1.17425940e+00, -1.92545586e-01],\n",
       "       [ 3.02432444e-01, -1.31960089e+00,  1.83051586e-01],\n",
       "       [-1.79415868e+00, -1.00420352e+00, -2.17275550e-01],\n",
       "       [ 1.49387594e+00, -1.47013252e+00,  4.14612670e-01],\n",
       "       [-1.57824777e+00,  3.26252676e-01, -1.74454279e+00],\n",
       "       [ 1.09972892e+00, -4.75148304e-02, -1.21226839e+00],\n",
       "       [-8.78229151e-01, -1.08373653e+00,  2.70337008e-03],\n",
       "       [ 8.90421740e-01, -1.34990772e+00,  3.35765014e-01],\n",
       "       [-1.33047664e+00, -1.01561907e+00, -7.99864154e-02],\n",
       "       [ 2.19540681e-01, -1.21995587e+00,  2.25962989e-01],\n",
       "       [-7.02592333e-01, -1.08085693e+00,  6.63670582e-02],\n",
       "       [-4.70519161e-01, -1.11577393e+00,  1.10443219e-01],\n",
       "       [-3.71782513e-01, -1.13065684e+00,  1.28009462e-01],\n",
       "       [ 2.49709965e-01, -1.16611641e+00,  2.82222631e-01],\n",
       "       [-2.81507713e-01,  2.47898317e-01, -1.39755760e+00],\n",
       "       [-6.92486630e-01, -9.94947343e-01,  1.38090881e-01],\n",
       "       [ 1.00183656e+00,  8.36296961e-02, -1.14462803e+00],\n",
       "       [ 4.85517270e-01, -1.17239636e+00,  3.52688043e-01],\n",
       "       [ 9.16095461e-01,  9.67976267e-02, -1.14928780e+00],\n",
       "       [ 4.01316916e-01, -1.13059450e+00,  3.59529655e-01],\n",
       "       [ 1.86862991e+00, -1.76710825e-02, -9.58000639e-01],\n",
       "       [-8.10654470e-01, -8.89574289e-01,  1.92569564e-01],\n",
       "       [ 1.07827242e+00,  1.59810666e-01, -1.04939377e+00],\n",
       "       [ 1.65086088e+00,  7.33740960e-02, -9.53100538e-01],\n",
       "       [-8.40256337e-01,  4.48881521e-01, -1.39573776e+00],\n",
       "       [ 1.13717903e+00, -1.15401647e+00,  5.63160854e-01],\n",
       "       [ 3.08719686e-01, -1.02922982e+00,  4.11866388e-01],\n",
       "       [ 1.43815483e+00,  1.63848653e-01, -9.38935659e-01],\n",
       "       [-9.96758186e-01,  5.30768704e-01, -1.37659200e+00],\n",
       "       [ 5.44171232e-03, -9.54225943e-01,  3.87538308e-01],\n",
       "       [ 1.29298442e+00, -1.14827597e+00,  6.17720316e-01],\n",
       "       [-9.47389862e-01,  5.23327249e-01, -1.36780888e+00],\n",
       "       [-4.57607937e-01, -8.84390383e-01,  3.06829920e-01],\n",
       "       [ 1.67683173e+00,  1.56994962e-01, -8.74093335e-01],\n",
       "       [ 4.16021294e-01, -9.86837080e-01,  4.89655069e-01],\n",
       "       [ 8.70906219e-01, -1.02631905e+00,  5.91290173e-01],\n",
       "       [ 6.84235085e-01, -9.98271327e-01,  5.54176289e-01],\n",
       "       [ 1.34595784e+00,  3.52842574e-01, -8.05449772e-01],\n",
       "       [-4.69867989e-01,  6.26458338e-01, -1.13240667e+00],\n",
       "       [ 2.27835275e-02, -7.81833032e-01,  5.36609041e-01],\n",
       "       [ 3.81292376e-01,  4.98237051e-01, -9.77631067e-01],\n",
       "       [-1.03665230e+00, -6.22127824e-01,  3.48682347e-01],\n",
       "       [ 5.13597177e-01, -8.55673851e-01,  6.30063345e-01],\n",
       "       [ 1.14055197e+00,  3.83752756e-01, -8.44223949e-01],\n",
       "       [ 9.58845944e-02,  5.41167687e-01, -1.03231119e+00],\n",
       "       [ 1.90090826e+00,  2.69270021e-01, -7.03372898e-01],\n",
       "       [ 3.12157595e-01, -8.25335848e-01,  5.93110013e-01],\n",
       "       [-1.26872547e+00, -5.87210823e-01,  3.04606187e-01],\n",
       "       [ 8.29573578e-01,  4.30691769e-01, -8.96762127e-01],\n",
       "       [ 3.82433784e-01, -7.48585816e-01,  6.71635560e-01],\n",
       "       [-1.16671899e+00, -5.15038230e-01,  3.97698495e-01],\n",
       "       [-7.07867782e-01, -5.55092382e-01,  5.01154445e-01],\n",
       "       [ 4.55367669e-01, -7.30251123e-01,  7.15912160e-01],\n",
       "       [ 1.10375960e+00, -7.98926738e-01,  8.50858905e-01],\n",
       "       [-5.19300383e-01,  7.79947493e-01, -1.01090383e+00],\n",
       "       [ 7.48178745e-01,  6.17967591e-01, -7.65257638e-01],\n",
       "       [ 1.21223952e-01, -6.21459016e-01,  7.09029657e-01],\n",
       "       [-3.27057250e-01, -5.53913735e-01,  6.28160716e-01],\n",
       "       [-5.16662945e-01,  8.08582982e-01, -9.91958508e-01],\n",
       "       [ 2.80131086e-01, -6.45501482e-01,  7.33397624e-01],\n",
       "       [-7.87237308e-01, -4.84651914e-01,  5.41829241e-01],\n",
       "       [ 9.34617726e-01,  6.19129095e-01, -7.03575347e-01],\n",
       "       [-6.34366480e-01,  8.55537580e-01, -9.86616638e-01],\n",
       "       [-7.45169167e-01, -4.32528995e-01,  6.03551418e-01],\n",
       "       [ 3.51736123e-01, -5.97959120e-01,  7.94798697e-01],\n",
       "       [ 1.41903955e+00,  5.75066566e-01, -6.02261347e-01],\n",
       "       [-4.98392518e-01,  8.64138980e-01, -9.41161402e-01],\n",
       "       [ 6.10411629e-01,  6.96992316e-01, -7.44451587e-01],\n",
       "       [-8.70573120e-01, -4.13639266e-01,  5.80683191e-01],\n",
       "       [ 1.13743087e+00, -6.87241003e-01,  9.58076206e-01],\n",
       "       [ 1.12369414e+00,  6.48926087e-01, -6.22947738e-01],\n",
       "       [ 1.89485259e+00,  5.32725254e-01, -4.84078084e-01],\n",
       "       [ 1.66277942e+00,  5.67642254e-01, -5.28154244e-01],\n",
       "       [ 1.50674188e+00,  5.91110981e-01, -5.58145300e-01],\n",
       "       [-1.28954958e+00, -3.21465312e-01,  5.24061553e-01],\n",
       "       [-3.17759179e-02, -4.81725557e-01,  7.79133073e-01],\n",
       "       [-6.04429349e-01,  9.38586267e-01, -9.05788589e-01],\n",
       "       [-1.17937838e+00, -2.79646307e-01,  5.96227146e-01],\n",
       "       [-1.18334467e+00, -2.79074127e-01,  5.94406300e-01],\n",
       "       [ 1.17553272e+00, -6.34545905e-01,  1.01797754e+00],\n",
       "       [ 5.76993109e-02, -4.66256439e-01,  8.10182100e-01],\n",
       "       [ 5.82648530e-01, -4.86829980e-01,  9.61716891e-01],\n",
       "       [ 1.59937938e-01, -4.23293075e-01,  8.78706001e-01],\n",
       "       [-4.76852264e-01,  1.00675048e+00, -8.14838230e-01],\n",
       "       [ 2.08622326e-02, -4.02111508e-01,  8.63442260e-01],\n",
       "       [-3.60876912e-01, -2.86453243e-01,  8.34709615e-01],\n",
       "       [-8.18252351e-01,  1.11611009e+00, -8.45873378e-01],\n",
       "       [-4.27018733e-01, -2.46936984e-01,  8.63722473e-01],\n",
       "       [-1.31210277e+00, -1.14141375e-01,  6.79492241e-01],\n",
       "       [ 8.72125709e-01,  9.20380930e-01, -4.64693005e-01],\n",
       "       [-8.76017553e-01,  1.18311437e+00, -8.09161376e-01],\n",
       "       [ 2.30203421e+00,  7.05154010e-01, -1.96915456e-01],\n",
       "       [-4.41408104e-01,  1.11786092e+00, -7.20687951e-01],\n",
       "       [ 1.76294893e+00,  7.86437844e-01, -2.91708949e-01],\n",
       "       [-3.92039780e-01,  1.11041946e+00, -7.11904829e-01],\n",
       "       [-4.62082916e-01, -1.83367350e-01,  9.03915612e-01],\n",
       "       [-1.15256325e+00, -7.97638257e-02,  7.60440955e-01],\n",
       "       [ 5.36209096e-01,  1.02974833e+00, -4.58508487e-01],\n",
       "       [-1.70487623e+00,  3.24442165e-02,  6.77309399e-01],\n",
       "       [ 1.19570032e+00, -4.03729862e-01,  1.23851688e+00],\n",
       "       [-6.84747745e-01,  1.21291448e+00, -7.13645901e-01],\n",
       "       [ 3.53272095e-01,  1.08643311e+00, -4.69233119e-01],\n",
       "       [-9.82221565e-01, -4.71043747e-02,  8.39408271e-01],\n",
       "       [ 1.89035883e+00, -4.50063966e-01,  1.41243825e+00],\n",
       "       [-1.21855815e+00,  1.35146929e+00, -7.70548756e-01],\n",
       "       [-4.74910385e-01, -6.48138980e-02,  9.96726703e-01],\n",
       "       [-1.53080042e+00,  9.37407158e-02,  7.82665968e-01],\n",
       "       [ 5.95450970e-01,  1.13742569e+00, -3.53433136e-01],\n",
       "       [-1.52316497e+00,  1.45568084e+00, -7.77752363e-01],\n",
       "       [ 1.09090711e+00,  1.06243584e+00, -2.78668940e-01],\n",
       "       [-1.18435761e+00,  7.08613124e-02,  8.76160159e-01],\n",
       "       [ 3.00846740e-01, -1.23166897e-01,  1.19399795e+00],\n",
       "       [-1.04051604e+00,  1.41219361e+00, -6.63371343e-01],\n",
       "       [ 1.35051212e+00,  1.05272281e+00, -1.97278457e-01],\n",
       "       [-7.40339814e-01,  1.36697269e+00, -6.08851768e-01],\n",
       "       [ 8.47864590e-01, -2.05595090e-01,  1.29243313e+00],\n",
       "       [-9.41714425e-01,  6.34354417e-02,  9.42823329e-01],\n",
       "       [ 1.10263878e+00, -2.43946728e-01,  1.33999043e+00],\n",
       "       [-1.83144095e+00,  1.97380086e-01,  7.77283206e-01],\n",
       "       [ 1.48097906e+00,  1.03326246e+00, -1.65145452e-01],\n",
       "       [-1.38999563e+00,  1.30980723e-01,  8.61954389e-01],\n",
       "       [ 1.33287409e+00,  1.05558682e+00, -1.91494817e-01],\n",
       "       [-1.25665910e+00,  1.10946634e-01,  8.88464306e-01],\n",
       "       [ 1.04004275e+00, -2.05581064e-01,  1.34286925e+00],\n",
       "       [-1.57293263e+00,  1.87665496e-01,  8.51229757e-01],\n",
       "       [ 4.84983547e-01,  1.27086361e+00, -2.70744355e-01],\n",
       "       [-1.74133333e+00,  2.71269219e-01,  8.64912979e-01],\n",
       "       [ 1.45445958e+00,  1.24115857e+00, -1.15356094e-02],\n",
       "       [-1.01540884e+00,  2.78776132e-01,  1.10253792e+00],\n",
       "       [ 1.21928466e+00,  1.30585854e+00, -2.54202755e-02],\n",
       "       [-1.69709206e+00,  4.10446083e-01,  9.94717288e-01],\n",
       "       [ 2.64157486e-01,  1.44867334e-01,  1.40616993e+00],\n",
       "       [-4.21324839e-01,  1.58177549e+00, -3.16668373e-01],\n",
       "       [ 1.30698699e+00,  1.32190295e+00,  1.86957719e-02],\n",
       "       [-9.38805793e-01,  1.65962313e+00, -4.15424661e-01],\n",
       "       [ 1.18951561e+00,  1.33964832e+00, -5.30764442e-04],\n",
       "       [-9.97203383e-01,  1.66820738e+00, -4.35293407e-01],\n",
       "       [ 1.42716078e+00, -1.08217936e-03,  1.64549606e+00],\n",
       "       [-1.60565560e+00,  4.55127547e-01,  1.06522259e+00],\n",
       "       [ 2.14205006e+00,  1.22517962e+00,  1.90756402e-01],\n",
       "       [-8.28402441e-01,  1.67223290e+00, -3.67827476e-01],\n",
       "       [ 2.21692493e+00,  1.35977748e+00,  3.27683540e-01],\n",
       "       [-9.94630016e-01,  1.84289057e+00, -2.86062122e-01],\n",
       "       [ 1.77867756e-01,  4.49552248e-01,  1.63412720e+00],\n",
       "       [-1.50900833e+00,  7.03127688e-01,  1.30390449e+00],\n",
       "       [ 1.54730865e+00,  1.60656936e+00,  3.31043008e-01],\n",
       "       [-1.71068006e+00,  7.62674919e-01,  1.29151957e+00],\n",
       "       [ 1.88205612e-01,  5.06252606e-01,  1.68128262e+00],\n",
       "       [-1.42953569e+00,  2.08340094e+00, -2.19681174e-01],\n",
       "       [ 1.22953909e+00,  4.07829870e-01,  1.92412977e+00],\n",
       "       [-7.55384802e-01,  2.04050460e+00, -3.43530844e-02],\n",
       "       [ 7.73957706e-01,  5.34939526e-01,  1.89619988e+00],\n",
       "       [-1.28626064e+00,  8.44610416e-01,  1.49174940e+00],\n",
       "       [ 2.68375609e-01,  6.11070624e-01,  1.80290613e+00],\n",
       "       [-1.05705706e+00,  8.10267154e-01,  1.54144865e+00],\n",
       "       [ 1.08870927e+00,  2.11339899e+00,  6.22502410e-01],\n",
       "       [-1.34984935e+00,  1.14586069e+00,  1.72318781e+00],\n",
       "       [ 1.09288835e+00,  9.82840852e-01,  2.37186351e+00],\n",
       "       [-1.17957174e+00,  1.32456784e+00,  1.93244109e+00],\n",
       "       [ 6.72751128e-01,  1.22106095e+00,  2.43808390e+00],\n",
       "       [-7.23719161e-01,  2.76501038e+00,  5.83177668e-01],\n",
       "       [ 7.67096226e-01,  2.86193009e+00,  1.15034121e+00],\n",
       "       [-1.06501524e+00,  3.13725616e+00,  7.88146046e-01]])"
      ]
     },
     "execution_count": 97,
     "metadata": {},
     "output_type": "execute_result"
    }
   ],
   "source": [
    "df_reduced"
   ]
  },
  {
   "cell_type": "code",
   "execution_count": 101,
   "id": "3f369950",
   "metadata": {},
   "outputs": [],
   "source": [
    "df_red_data.index=df['CustomerID'].values"
   ]
  },
  {
   "cell_type": "code",
   "execution_count": 102,
   "id": "a199293e",
   "metadata": {},
   "outputs": [
    {
     "data": {
      "text/html": [
       "<div>\n",
       "<style scoped>\n",
       "    .dataframe tbody tr th:only-of-type {\n",
       "        vertical-align: middle;\n",
       "    }\n",
       "\n",
       "    .dataframe tbody tr th {\n",
       "        vertical-align: top;\n",
       "    }\n",
       "\n",
       "    .dataframe thead th {\n",
       "        text-align: right;\n",
       "    }\n",
       "</style>\n",
       "<table border=\"1\" class=\"dataframe\">\n",
       "  <thead>\n",
       "    <tr style=\"text-align: right;\">\n",
       "      <th></th>\n",
       "      <th>0</th>\n",
       "      <th>1</th>\n",
       "      <th>2</th>\n",
       "    </tr>\n",
       "  </thead>\n",
       "  <tbody>\n",
       "    <tr>\n",
       "      <th>1</th>\n",
       "      <td>-0.406383</td>\n",
       "      <td>-0.520714</td>\n",
       "      <td>-2.072527</td>\n",
       "    </tr>\n",
       "    <tr>\n",
       "      <th>2</th>\n",
       "      <td>-1.427673</td>\n",
       "      <td>-0.367310</td>\n",
       "      <td>-2.277644</td>\n",
       "    </tr>\n",
       "    <tr>\n",
       "      <th>3</th>\n",
       "      <td>0.050761</td>\n",
       "      <td>-1.894068</td>\n",
       "      <td>-0.367375</td>\n",
       "    </tr>\n",
       "    <tr>\n",
       "      <th>4</th>\n",
       "      <td>-1.694513</td>\n",
       "      <td>-1.631908</td>\n",
       "      <td>-0.717467</td>\n",
       "    </tr>\n",
       "    <tr>\n",
       "      <th>5</th>\n",
       "      <td>-0.313108</td>\n",
       "      <td>-1.810483</td>\n",
       "      <td>-0.426460</td>\n",
       "    </tr>\n",
       "    <tr>\n",
       "      <th>...</th>\n",
       "      <td>...</td>\n",
       "      <td>...</td>\n",
       "      <td>...</td>\n",
       "    </tr>\n",
       "    <tr>\n",
       "      <th>196</th>\n",
       "      <td>-1.179572</td>\n",
       "      <td>1.324568</td>\n",
       "      <td>1.932441</td>\n",
       "    </tr>\n",
       "    <tr>\n",
       "      <th>197</th>\n",
       "      <td>0.672751</td>\n",
       "      <td>1.221061</td>\n",
       "      <td>2.438084</td>\n",
       "    </tr>\n",
       "    <tr>\n",
       "      <th>198</th>\n",
       "      <td>-0.723719</td>\n",
       "      <td>2.765010</td>\n",
       "      <td>0.583178</td>\n",
       "    </tr>\n",
       "    <tr>\n",
       "      <th>199</th>\n",
       "      <td>0.767096</td>\n",
       "      <td>2.861930</td>\n",
       "      <td>1.150341</td>\n",
       "    </tr>\n",
       "    <tr>\n",
       "      <th>200</th>\n",
       "      <td>-1.065015</td>\n",
       "      <td>3.137256</td>\n",
       "      <td>0.788146</td>\n",
       "    </tr>\n",
       "  </tbody>\n",
       "</table>\n",
       "<p>200 rows × 3 columns</p>\n",
       "</div>"
      ],
      "text/plain": [
       "            0         1         2\n",
       "1   -0.406383 -0.520714 -2.072527\n",
       "2   -1.427673 -0.367310 -2.277644\n",
       "3    0.050761 -1.894068 -0.367375\n",
       "4   -1.694513 -1.631908 -0.717467\n",
       "5   -0.313108 -1.810483 -0.426460\n",
       "..        ...       ...       ...\n",
       "196 -1.179572  1.324568  1.932441\n",
       "197  0.672751  1.221061  2.438084\n",
       "198 -0.723719  2.765010  0.583178\n",
       "199  0.767096  2.861930  1.150341\n",
       "200 -1.065015  3.137256  0.788146\n",
       "\n",
       "[200 rows x 3 columns]"
      ]
     },
     "execution_count": 102,
     "metadata": {},
     "output_type": "execute_result"
    }
   ],
   "source": [
    "df_red_data"
   ]
  },
  {
   "cell_type": "markdown",
   "id": "f97fa175",
   "metadata": {},
   "source": [
    "# with reduced"
   ]
  },
  {
   "cell_type": "code",
   "execution_count": 106,
   "id": "b8e4a306",
   "metadata": {},
   "outputs": [
    {
     "data": {
      "image/png": "[encoded data removed]",
      "text/plain": [
       "<Figure size 2160x720 with 1 Axes>"
      ]
     },
     "metadata": {
      "needs_background": "light"
     },
     "output_type": "display_data"
    }
   ],
   "source": [
    "plt.figure(figsize=(30, 10))\n",
    "dendrogrm = sch.dendrogram(sch.linkage(df_reduced, method = 'ward'),labels=df_red_data.index)\n",
    "plt.axhline(y=8, color='r', linestyle='--')\n",
    "ax = plt.gca()\n",
    "ax.tick_params(axis='x', which='major', labelsize=10)\n",
    "plt.title('Dendrogram',fontsize=30)\n",
    "\n",
    "plt.ylabel('Euclidean distance', fontsize=20)\n",
    "plt.show()"
   ]
  },
  {
   "cell_type": "code",
   "execution_count": 107,
   "id": "424ef2f1",
   "metadata": {},
   "outputs": [],
   "source": [
    "hc = AgglomerativeClustering(n_clusters = 6, affinity = 'euclidean', linkage = 'ward')\n",
    "y_hc_1 = hc.fit_predict(df_reduced)"
   ]
  },
  {
   "cell_type": "code",
   "execution_count": 108,
   "id": "f37560a5",
   "metadata": {},
   "outputs": [
    {
     "data": {
      "text/plain": [
       "0.3673619621029458"
      ]
     },
     "execution_count": 108,
     "metadata": {},
     "output_type": "execute_result"
    }
   ],
   "source": [
    "silhouette_score(df_reduced,y_hc_1)"
   ]
  },
  {
   "cell_type": "markdown",
   "id": "6f085147",
   "metadata": {},
   "source": [
    "# Silhouettte score is 0.36"
   ]
  },
  {
   "cell_type": "code",
   "execution_count": 133,
   "id": "e8770451",
   "metadata": {},
   "outputs": [
    {
     "data": {
      "text/plain": [
       "<matplotlib.legend.Legend at 0x2887d311d90>"
      ]
     },
     "execution_count": 133,
     "metadata": {},
     "output_type": "execute_result"
    },
    {
     "data": {
      "image/png": "[encoded data removed]",
      "text/plain": [
       "<Figure size 432x288 with 1 Axes>"
      ]
     },
     "metadata": {
      "needs_background": "light"
     },
     "output_type": "display_data"
    }
   ],
   "source": [
    "sns.scatterplot(x=df['Annual Income (k$)'],y=df['Spending Score (1-100)'],hue=y_hc_1,palette='Set1')\n",
    "plt.legend(bbox_to_anchor=[1.05,1])"
   ]
  },
  {
   "cell_type": "markdown",
   "id": "676cacc9",
   "metadata": {},
   "source": [
    "# Here the clustering is not like that we can group the customers on the basis of income and spending scores"
   ]
  },
  {
   "cell_type": "markdown",
   "id": "df17ce10",
   "metadata": {},
   "source": [
    "# DBSCAN"
   ]
  },
  {
   "cell_type": "code",
   "execution_count": 113,
   "id": "bc7dda89",
   "metadata": {},
   "outputs": [
    {
     "data": {
      "image/png": "[encoded data removed]",
      "text/plain": [
       "<Figure size 1080x576 with 1 Axes>"
      ]
     },
     "metadata": {
      "needs_background": "light"
     },
     "output_type": "display_data"
    }
   ],
   "source": [
    "from sklearn.neighbors import NearestNeighbors\n",
    "neigh = NearestNeighbors(n_neighbors=2)\n",
    "nbrs = neigh.fit(df_scaled)\n",
    "distances, indices = nbrs.kneighbors(df_scaled)\n",
    "distances = np.sort(distances, axis=0)\n",
    "distances = distances[:,1]\n",
    "plt.figure(figsize=(15,8))\n",
    "plt.plot(distances)\n",
    "plt.axhline(y=0.54, color='r', linestyle='--')\n",
    "plt.title('K-distance Graph',fontsize=20)\n",
    "plt.xlabel('Data Points sorted by distance',fontsize=14)\n",
    "plt.ylabel('Epsilon',fontsize=14)\n",
    "plt.show()"
   ]
  },
  {
   "cell_type": "code",
   "execution_count": 116,
   "id": "41e5eae3",
   "metadata": {},
   "outputs": [
    {
     "name": "stdout",
     "output_type": "stream",
     "text": [
      "eps= 0.54 | min_samples=  2 | obtained clustering:  [(1, 23), (2, 6), (3, 58), (4, 6), (5, 4), (6, 2), (7, 5), (8, 2), (9, 20), (10, 3), (11, 7), (12, 2), (13, 9), (14, 19), (15, 3), (16, 3), (17, 7), (18, 4), (19, 4), (20, 5), (21, 4), (22, 2), (23, 2)] |silhoutte score 0.16561092227752103\n",
      "eps= 0.54 | min_samples=  3 | obtained clustering:  [(1, 33), (2, 58), (3, 4), (4, 6), (5, 6), (6, 5), (7, 20), (8, 3), (9, 7), (10, 9), (11, 19), (12, 3), (13, 4), (14, 4), (15, 3), (16, 7), (17, 5), (18, 4)] |silhoutte score 0.14139541867982675\n",
      "eps= 0.54 | min_samples=  4 | obtained clustering:  [(1, 53), (2, 57), (3, 6), (4, 4), (5, 4), (6, 20), (7, 7), (8, 8), (9, 18), (10, 4), (11, 7), (12, 4), (13, 4), (14, 4)] |silhoutte score 0.10066783081554201\n",
      "eps= 0.54 | min_samples=  5 | obtained clustering:  [(1, 93), (2, 9), (3, 5), (4, 23), (5, 20), (6, 19), (7, 7), (8, 17), (9, 7)] |silhoutte score 0.10616110554688352\n",
      "eps= 0.54 | min_samples=  6 | obtained clustering:  [(1, 111), (2, 9), (3, 18), (4, 19), (5, 7), (6, 6), (7, 6), (8, 1), (9, 17), (10, 6)] |silhoutte score -0.031469492030472904\n",
      "eps= 0.54 | min_samples=  7 | obtained clustering:  [(1, 141), (2, 17), (3, 18), (4, 7), (5, 17)] |silhoutte score -0.05014298515475213\n",
      "eps= 0.54 | min_samples=  8 | obtained clustering:  [(1, 153), (2, 15), (3, 15), (4, 17)] |silhoutte score -0.05403593791122722\n",
      "eps= 0.54 | min_samples=  9 | obtained clustering:  [(1, 159), (2, 15), (3, 9), (4, 17)] |silhoutte score -0.08288259585467711\n",
      "eps= 0.54 | min_samples=  10 | obtained clustering:  [(1, 170), (2, 15), (3, 15)] |silhoutte score -0.08986757395635384\n",
      "eps= 0.54 | min_samples=  11 | obtained clustering:  [(1, 188), (2, 12)] |silhoutte score -0.010232442045158741\n"
     ]
    }
   ],
   "source": [
    "from sklearn.cluster import DBSCAN\n",
    "eps=0.54\n",
    "for min_samples in range(2,12):\n",
    "    clusterer = DBSCAN(eps=eps, min_samples=min_samples)\n",
    "    cluster_labels = clusterer.fit_predict(df_scaled)\n",
    "\n",
    "    X= cluster_labels +2\n",
    "    y = np.bincount(X)\n",
    "    ii = np.nonzero(y)[0]\n",
    "    results = list(zip(ii,y[ii]) )\n",
    "    print('eps=',eps,'| min_samples= ', min_samples, '| obtained clustering: ', results,'|silhoutte score',silhouette_score(df_scaled,cluster_labels))"
   ]
  },
  {
   "cell_type": "code",
   "execution_count": null,
   "id": "18401b17",
   "metadata": {},
   "outputs": [],
   "source": [
    "df_scaled"
   ]
  },
  {
   "cell_type": "code",
   "execution_count": 117,
   "id": "b5b7afbb",
   "metadata": {},
   "outputs": [
    {
     "data": {
      "text/plain": [
       "array([-1,  0, -1,  1,  2,  1, -1,  1,  3,  1,  3,  4,  5,  1, -1,  0,  2,\n",
       "        0, -1,  4, -1,  0,  5,  0,  5,  0,  2, -1,  2,  1,  3,  1,  3,  6,\n",
       "        5,  1,  5,  1,  2,  1, -1,  6,  7,  1,  2,  1,  1,  1,  1,  1,  1,\n",
       "       -1,  1,  7,  1,  7,  1,  7,  1,  7,  7,  8,  1,  1,  7,  8,  1,  1,\n",
       "        8,  1,  7,  1,  1,  1,  7,  9,  1, 10,  1,  1,  7, 10,  7,  1,  1,\n",
       "        7,  1,  1, -1,  1,  1,  9,  7,  1,  1,  9,  1,  1,  7,  9,  1,  1,\n",
       "        7,  9,  7,  1,  1,  7,  7,  7,  7,  1,  1,  9,  1,  1,  1,  1,  1,\n",
       "        1,  9,  1, -1, 11,  1, 12, 13, 11, -1, 14, 15, 14,  1, 12, 16, 12,\n",
       "       17, 14, 16, 12, -1, 11,  1, 12, 16, 11, 13, 12, 18, 11, 15, 11, 17,\n",
       "       12, 17, 12, 15, 12, 15, 12, -1, 12, 16, 12, 13, 12, 15, 12, 18, 19,\n",
       "       15, 19, 15, 11, 17, 12, 20, 19, 20, 11, 18, 12, -1, 12, 18, 11, -1,\n",
       "       19, -1, 12, 18, -1, -1, 12, 21, -1, 21, -1, -1, -1], dtype=int64)"
      ]
     },
     "execution_count": 117,
     "metadata": {},
     "output_type": "execute_result"
    }
   ],
   "source": [
    "db_1=DBSCAN(eps=0.54,min_samples=2)\n",
    "y_pred_without_reduced_dscan=db_1.fit_predict(df_scaled)\n",
    "y_pred_without_reduced_dscan"
   ]
  },
  {
   "cell_type": "code",
   "execution_count": 120,
   "id": "030e950f",
   "metadata": {},
   "outputs": [
    {
     "data": {
      "text/plain": [
       "(200,)"
      ]
     },
     "execution_count": 120,
     "metadata": {},
     "output_type": "execute_result"
    }
   ],
   "source": [
    "y_pred_without_reduced_dscan.shape"
   ]
  },
  {
   "cell_type": "code",
   "execution_count": 118,
   "id": "09afc992",
   "metadata": {},
   "outputs": [
    {
     "data": {
      "text/plain": [
       "0.16561092227752103"
      ]
     },
     "execution_count": 118,
     "metadata": {},
     "output_type": "execute_result"
    }
   ],
   "source": [
    "silhouette_score(df_scaled,y_pred_without_reduced_dscan)"
   ]
  },
  {
   "cell_type": "code",
   "execution_count": 131,
   "id": "527d5586",
   "metadata": {},
   "outputs": [
    {
     "data": {
      "text/plain": [
       "<matplotlib.legend.Legend at 0x2887d036c40>"
      ]
     },
     "execution_count": 131,
     "metadata": {},
     "output_type": "execute_result"
    },
    {
     "data": {
      "image/png": "[encoded data removed]",
      "text/plain": [
       "<Figure size 432x288 with 1 Axes>"
      ]
     },
     "metadata": {
      "needs_background": "light"
     },
     "output_type": "display_data"
    }
   ],
   "source": [
    "sns.scatterplot(x=df['Annual Income (k$)'],y=df['Spending Score (1-100)'],hue=y_pred_without_reduced_dscan,palette='Set1')\n",
    "plt.legend(bbox_to_anchor=[1.05,1])"
   ]
  },
  {
   "cell_type": "markdown",
   "id": "a159c0d0",
   "metadata": {},
   "source": [
    "# with dimension reduction"
   ]
  },
  {
   "cell_type": "code",
   "execution_count": 124,
   "id": "4b9dcc03",
   "metadata": {},
   "outputs": [
    {
     "data": {
      "image/png": "[encoded data removed]",
      "text/plain": [
       "<Figure size 1080x576 with 1 Axes>"
      ]
     },
     "metadata": {
      "needs_background": "light"
     },
     "output_type": "display_data"
    }
   ],
   "source": [
    "neigh = NearestNeighbors(n_neighbors=2)\n",
    "nbrs = neigh.fit(df_reduced)\n",
    "distances, indices = nbrs.kneighbors(df_reduced)\n",
    "\n",
    "\n",
    "distances = np.sort(distances, axis=0)\n",
    "distances = distances[:,1]\n",
    "plt.figure(figsize=(15,8))\n",
    "plt.plot(distances)\n",
    "plt.axhline(y=0.48, color='r', linestyle='--')\n",
    "plt.title('K-distance Graph',fontsize=20)\n",
    "plt.xlabel('Data Points sorted by distance',fontsize=14)\n",
    "plt.ylabel('Epsilon',fontsize=14)\n",
    "plt.show()"
   ]
  },
  {
   "cell_type": "code",
   "execution_count": 125,
   "id": "3c7a259f",
   "metadata": {},
   "outputs": [
    {
     "name": "stdout",
     "output_type": "stream",
     "text": [
      "eps= 0.48 | min_samples=  2 | obtained clustering:  [(1, 15), (2, 6), (3, 95), (4, 11), (5, 4), (6, 2), (7, 2), (8, 36), (9, 3), (10, 22), (11, 2), (12, 2)] |silhoutte score 0.07406980631887673\n",
      "eps= 0.48 | min_samples=  3 | obtained clustering:  [(1, 23), (2, 6), (3, 95), (4, 11), (5, 4), (6, 36), (7, 3), (8, 22)] |silhoutte score 0.15151280655798016\n",
      "eps= 0.48 | min_samples=  4 | obtained clustering:  [(1, 27), (2, 11), (3, 6), (4, 90), (5, 4), (6, 36), (7, 22), (8, 4)] |silhoutte score 0.10630473105976103\n",
      "eps= 0.48 | min_samples=  5 | obtained clustering:  [(1, 37), (2, 11), (3, 6), (4, 84), (5, 36), (6, 22), (7, 4)] |silhoutte score 0.08352128259156782\n",
      "eps= 0.48 | min_samples=  6 | obtained clustering:  [(1, 46), (2, 11), (3, 6), (4, 78), (5, 35), (6, 20), (7, 4)] |silhoutte score 0.07118205865555984\n",
      "eps= 0.48 | min_samples=  7 | obtained clustering:  [(1, 63), (2, 11), (3, 73), (4, 33), (5, 20)] |silhoutte score 0.13678018625591748\n",
      "eps= 0.48 | min_samples=  8 | obtained clustering:  [(1, 72), (2, 11), (3, 69), (4, 30), (5, 18)] |silhoutte score 0.10674340456133798\n",
      "eps= 0.48 | min_samples=  9 | obtained clustering:  [(1, 87), (2, 68), (3, 18), (4, 18), (5, 9)] |silhoutte score 0.06106805282766134\n",
      "eps= 0.48 | min_samples=  10 | obtained clustering:  [(1, 109), (2, 56), (3, 17), (4, 18)] |silhoutte score 0.024112614360221763\n",
      "eps= 0.48 | min_samples=  11 | obtained clustering:  [(1, 118), (2, 56), (3, 11), (4, 15)] |silhoutte score -0.033214734463586984\n"
     ]
    }
   ],
   "source": [
    "eps=0.48\n",
    "for min_samples in range(2,12):\n",
    "    clusterer = DBSCAN(eps=eps, min_samples=min_samples)\n",
    "    cluster_labels = clusterer.fit_predict(df_reduced)\n",
    "\n",
    "    X= cluster_labels +2\n",
    "    y = np.bincount(X)\n",
    "    ii = np.nonzero(y)[0]\n",
    "    results = list(zip(ii,y[ii]) )\n",
    "    print('eps=',eps,'| min_samples= ', min_samples, '| obtained clustering: ', results,'|silhoutte score',silhouette_score(df_scaled,cluster_labels))"
   ]
  },
  {
   "cell_type": "code",
   "execution_count": 126,
   "id": "6145b34e",
   "metadata": {},
   "outputs": [
    {
     "data": {
      "text/plain": [
       "array([-1,  1, -1,  0, -1,  0, -1, -1, -1,  0, -1, -1,  2,  0, -1,  1, -1,\n",
       "        1, -1, -1, -1,  1, -1,  1,  2,  1,  3, -1,  3,  0, -1,  0, -1, -1,\n",
       "        2,  0, -1, -1,  3,  0, -1, -1,  6,  5, -1, -1,  4,  5,  5,  5,  4,\n",
       "       -1,  5, -1,  4,  6,  4,  7,  5,  6,  7,  8,  9,  4,  6,  8,  4,  9,\n",
       "        8,  5,  7,  4,  4,  4,  6, 10,  4, -1,  5,  4,  6, -1,  7,  4,  5,\n",
       "        6,  4,  5, -1,  4,  9, 10,  6,  5,  5, 10,  4,  5,  6, 10,  5,  4,\n",
       "        7, 10,  6,  5,  9,  6,  7,  7,  7,  5,  5, 10,  5,  5,  9,  4,  4,\n",
       "        4, 10,  5, -1, 11, 14, 12, -1, 11, -1, 13, -1, 13, 14, 12, 15, 12,\n",
       "       17, 13, 15, 12, -1, 11, 14, 12, 15, 11, -1, 12, 18, 11, 16, 11, 17,\n",
       "       12, 17, 12, -1, 12, -1, 12, -1, 12, 15, 12, -1, 12, 16, 12, 18, 19,\n",
       "       16, 19, 16, 11, -1, 12, -1, 19, -1, 11, 18, 12, -1, 12, 18, -1, -1,\n",
       "       -1, -1, 12, 18, -1, -1, 12, -1, -1, -1, -1, -1, -1], dtype=int64)"
      ]
     },
     "execution_count": 126,
     "metadata": {},
     "output_type": "execute_result"
    }
   ],
   "source": [
    "db_2=DBSCAN(eps=0.48,min_samples=3)\n",
    "y_pred_with_reduced_dscan=db_2.fit_predict(df_scaled)\n",
    "y_pred_with_reduced_dscan"
   ]
  },
  {
   "cell_type": "code",
   "execution_count": 129,
   "id": "b562fe9f",
   "metadata": {},
   "outputs": [
    {
     "data": {
      "text/plain": [
       "<matplotlib.legend.Legend at 0x288773eb6a0>"
      ]
     },
     "execution_count": 129,
     "metadata": {},
     "output_type": "execute_result"
    },
    {
     "data": {
      "image/png": "[encoded data removed]",
      "text/plain": [
       "<Figure size 432x288 with 1 Axes>"
      ]
     },
     "metadata": {
      "needs_background": "light"
     },
     "output_type": "display_data"
    }
   ],
   "source": [
    "sns.scatterplot(x=df['Annual Income (k$)'],y=df['Spending Score (1-100)'],hue=y_pred_with_reduced_dscan,palette='Set1')\n",
    "plt.legend(bbox_to_anchor=[1.05,1])"
   ]
  },
  {
   "cell_type": "code",
   "execution_count": 136,
   "id": "e4529e22",
   "metadata": {},
   "outputs": [],
   "source": [
    "X=df.iloc[:,[3,4]].values"
   ]
  },
  {
   "cell_type": "code",
   "execution_count": 138,
   "id": "078655ef",
   "metadata": {},
   "outputs": [
    {
     "data": {
      "image/png": "[encoded data removed]",
      "text/plain": [
       "<Figure size 2160x720 with 1 Axes>"
      ]
     },
     "metadata": {
      "needs_background": "light"
     },
     "output_type": "display_data"
    }
   ],
   "source": [
    "plt.figure(figsize=(30, 10))\n",
    "dendrogrm = sch.dendrogram(sch.linkage(X, method = 'ward'),labels=df.index)\n",
    "plt.axhline(y=150, color='r', linestyle='--')\n",
    "ax = plt.gca()\n",
    "ax.tick_params(axis='x', which='major', labelsize=10)\n",
    "plt.title('Customer Dendrogram',fontsize=30)\n",
    "plt.xlabel('Customers',fontsize=20)\n",
    "plt.ylabel('Euclidean distance', fontsize=20)\n",
    "plt.show()"
   ]
  },
  {
   "cell_type": "code",
   "execution_count": 139,
   "id": "cff89eaf",
   "metadata": {},
   "outputs": [],
   "source": [
    "hc_a = AgglomerativeClustering(n_clusters = 5, affinity = 'euclidean', linkage = 'ward')\n",
    "y_hc_a = hc.fit_predict(X)"
   ]
  },
  {
   "cell_type": "code",
   "execution_count": 140,
   "id": "d6d0cbba",
   "metadata": {},
   "outputs": [
    {
     "data": {
      "text/plain": [
       "array([4, 3, 4, 3, 4, 3, 4, 3, 4, 3, 4, 3, 4, 3, 4, 3, 4, 3, 4, 3, 4, 3,\n",
       "       4, 3, 4, 3, 4, 3, 4, 3, 4, 3, 4, 3, 4, 3, 4, 3, 4, 3, 4, 3, 4, 1,\n",
       "       4, 1, 1, 1, 1, 1, 1, 1, 1, 1, 1, 1, 1, 1, 1, 1, 1, 1, 1, 1, 1, 1,\n",
       "       1, 1, 1, 1, 1, 1, 1, 1, 1, 1, 1, 1, 1, 1, 1, 1, 1, 1, 1, 1, 1, 1,\n",
       "       1, 1, 1, 1, 1, 1, 1, 1, 1, 1, 1, 1, 1, 1, 1, 1, 1, 1, 1, 1, 1, 1,\n",
       "       1, 1, 1, 1, 1, 1, 1, 1, 1, 1, 1, 1, 1, 0, 1, 0, 1, 0, 5, 0, 5, 0,\n",
       "       1, 0, 5, 0, 5, 0, 5, 0, 5, 0, 1, 0, 5, 0, 1, 0, 5, 0, 5, 0, 5, 0,\n",
       "       5, 0, 5, 0, 5, 0, 1, 0, 5, 0, 5, 0, 5, 0, 5, 0, 5, 0, 5, 0, 5, 0,\n",
       "       5, 0, 5, 0, 2, 0, 5, 0, 2, 0, 2, 0, 2, 0, 2, 0, 2, 0, 2, 0, 2, 0,\n",
       "       2, 0], dtype=int64)"
      ]
     },
     "execution_count": 140,
     "metadata": {},
     "output_type": "execute_result"
    }
   ],
   "source": [
    "y_hc_a"
   ]
  },
  {
   "cell_type": "code",
   "execution_count": 204,
   "id": "81299cdc",
   "metadata": {},
   "outputs": [
    {
     "name": "stderr",
     "output_type": "stream",
     "text": [
      "C:\\Users\\Asus\\anaconda3\\lib\\site-packages\\seaborn\\_decorators.py:36: FutureWarning: Pass the following variables as keyword args: x, y. From version 0.12, the only valid positional argument will be `data`, and passing other arguments without an explicit keyword will result in an error or misinterpretation.\n",
      "  warnings.warn(\n"
     ]
    },
    {
     "data": {
      "text/plain": [
       "<matplotlib.legend.Legend at 0x28802e281c0>"
      ]
     },
     "execution_count": 204,
     "metadata": {},
     "output_type": "execute_result"
    },
    {
     "data": {
      "image/png": "[encoded data removed]",
      "text/plain": [
       "<Figure size 432x288 with 1 Axes>"
      ]
     },
     "metadata": {
      "needs_background": "light"
     },
     "output_type": "display_data"
    }
   ],
   "source": [
    "sns.scatterplot(X[:,0],X[:,1],hue=y_hc_a,palette='Set1')\n",
    "plt.legend(bbox_to_anchor=[1.05,1],labels=['Sensible','Target','Standard','Carefull','Careless','Sensible','Carefull'])"
   ]
  },
  {
   "cell_type": "code",
   "execution_count": null,
   "id": "c60e42bd",
   "metadata": {},
   "outputs": [],
   "source": []
  },
  {
   "cell_type": "code",
   "execution_count": null,
   "id": "1fa7a173",
   "metadata": {},
   "outputs": [],
   "source": []
  },
  {
   "cell_type": "code",
   "execution_count": null,
   "id": "dc2b7b68",
   "metadata": {},
   "outputs": [],
   "source": []
  },
  {
   "cell_type": "code",
   "execution_count": null,
   "id": "655dc330",
   "metadata": {},
   "outputs": [],
   "source": []
  },
  {
   "cell_type": "code",
   "execution_count": null,
   "id": "5c8e7408",
   "metadata": {},
   "outputs": [],
   "source": []
  },
  {
   "cell_type": "code",
   "execution_count": null,
   "id": "79164f06",
   "metadata": {},
   "outputs": [],
   "source": []
  },
  {
   "cell_type": "code",
   "execution_count": null,
   "id": "48604727",
   "metadata": {},
   "outputs": [],
   "source": []
  },
  {
   "cell_type": "code",
   "execution_count": null,
   "id": "55ed2891",
   "metadata": {},
   "outputs": [],
   "source": []
  },
  {
   "cell_type": "code",
   "execution_count": null,
   "id": "ee4a7efd",
   "metadata": {},
   "outputs": [],
   "source": []
  },
  {
   "cell_type": "code",
   "execution_count": null,
   "id": "6252becf",
   "metadata": {},
   "outputs": [],
   "source": []
  }
 ],
 "metadata": {
  "kernelspec": {
   "display_name": "Python 3 (ipykernel)",
   "language": "python",
   "name": "python3"
  },
  "language_info": {
   "codemirror_mode": {
    "name": "ipython",
    "version": 3
   },
   "file_extension": ".py",
   "mimetype": "text/x-python",
   "name": "python",
   "nbconvert_exporter": "python",
   "pygments_lexer": "ipython3",
   "version": "3.9.12"
  }
 },
 "nbformat": 4,
 "nbformat_minor": 5
}
